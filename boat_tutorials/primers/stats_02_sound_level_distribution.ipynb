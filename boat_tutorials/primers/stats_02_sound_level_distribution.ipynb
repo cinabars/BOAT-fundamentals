{
 "cells": [
  {
   "cell_type": "markdown",
   "metadata": {
    "editable": true,
    "id": "ntlofLSbT73l",
    "slideshow": {
     "slide_type": ""
    },
    "tags": []
   },
   "source": [
    "## Sound Level Metrics Distributions"
   ]
  },
  {
   "cell_type": "markdown",
   "metadata": {
    "editable": true,
    "slideshow": {
     "slide_type": ""
    },
    "tags": []
   },
   "source": [
    "```{admonition} Learning Objectives\n",
    ":class: tip\n",
    "* Summarize the distribution of sound levels from a hydrophone through a histogram.\n",
    "* Compute the empirical probability of an event from the histogram.\n",
    "```"
   ]
  },
  {
   "cell_type": "markdown",
   "metadata": {
    "editable": true,
    "id": "jvrn8zN1UOUW",
    "slideshow": {
     "slide_type": ""
    },
    "tags": []
   },
   "source": [
    "Here we will explore the distribution of ocean sound levels from a hydrophone recording. We will access data from the [Sanctuary Soundscape Monitoring Project](https://sanctsound.ioos.us/) which is publicly available through the [NOAA NCEI Passive Acoustics Archive](https://www.ncei.noaa.gov/products/passive-acoustic-data). We will use a dataset of computed broadband sound levels at **1 hour intervals**.  "
   ]
  },
  {
   "cell_type": "code",
   "execution_count": 1,
   "metadata": {
    "id": "rx0W21RUxcfr"
   },
   "outputs": [],
   "source": [
    "import pandas as pd\n",
    "import matplotlib.pyplot as plt"
   ]
  },
  {
   "cell_type": "code",
   "execution_count": 2,
   "metadata": {
    "editable": true,
    "id": "oAZjhs1qyVR-",
    "slideshow": {
     "slide_type": ""
    },
    "tags": []
   },
   "outputs": [],
   "source": [
    "sound_levels = pd.read_csv(\"https://storage.googleapis.com/noaa-passive-bioacoustic/sanctsound/products/sound_level_metrics/oc03/sanctsound_oc03_02_bb_1h/data/SanctSound_OC03_02_BB_1h.csv\")"
   ]
  },
  {
   "cell_type": "code",
   "execution_count": 3,
   "metadata": {
    "colab": {
     "base_uri": "https://localhost:8080/",
     "height": 300
    },
    "id": "Nai-7IFdykUS",
    "outputId": "384daca3-3ace-48b9-f5ee-9c12518af2d3"
   },
   "outputs": [
    {
     "data": {
      "text/html": [
       "<div>\n",
       "<style scoped>\n",
       "    .dataframe tbody tr th:only-of-type {\n",
       "        vertical-align: middle;\n",
       "    }\n",
       "\n",
       "    .dataframe tbody tr th {\n",
       "        vertical-align: top;\n",
       "    }\n",
       "\n",
       "    .dataframe thead th {\n",
       "        text-align: right;\n",
       "    }\n",
       "</style>\n",
       "<table border=\"1\" class=\"dataframe\">\n",
       "  <thead>\n",
       "    <tr style=\"text-align: right;\">\n",
       "      <th></th>\n",
       "      <th>BB_20-24000</th>\n",
       "    </tr>\n",
       "  </thead>\n",
       "  <tbody>\n",
       "    <tr>\n",
       "      <th>count</th>\n",
       "      <td>3003.000000</td>\n",
       "    </tr>\n",
       "    <tr>\n",
       "      <th>mean</th>\n",
       "      <td>103.586356</td>\n",
       "    </tr>\n",
       "    <tr>\n",
       "      <th>std</th>\n",
       "      <td>7.508545</td>\n",
       "    </tr>\n",
       "    <tr>\n",
       "      <th>min</th>\n",
       "      <td>85.349354</td>\n",
       "    </tr>\n",
       "    <tr>\n",
       "      <th>25%</th>\n",
       "      <td>98.694873</td>\n",
       "    </tr>\n",
       "    <tr>\n",
       "      <th>50%</th>\n",
       "      <td>103.723633</td>\n",
       "    </tr>\n",
       "    <tr>\n",
       "      <th>75%</th>\n",
       "      <td>108.123486</td>\n",
       "    </tr>\n",
       "    <tr>\n",
       "      <th>max</th>\n",
       "      <td>134.773183</td>\n",
       "    </tr>\n",
       "  </tbody>\n",
       "</table>\n",
       "</div>"
      ],
      "text/plain": [
       "       BB_20-24000 \n",
       "count   3003.000000\n",
       "mean     103.586356\n",
       "std        7.508545\n",
       "min       85.349354\n",
       "25%       98.694873\n",
       "50%      103.723633\n",
       "75%      108.123486\n",
       "max      134.773183"
      ]
     },
     "execution_count": 3,
     "metadata": {},
     "output_type": "execute_result"
    }
   ],
   "source": [
    "# summary statistics of the dataset\n",
    "sound_levels.describe()"
   ]
  },
  {
   "cell_type": "markdown",
   "metadata": {
    "id": "ku3b17IcXpVZ"
   },
   "source": [
    "### Histogram\n",
    "\n",
    "Looking at the histogram of the data provides a good first glance of the distribution of the observations. "
   ]
  },
  {
   "cell_type": "code",
   "execution_count": 4,
   "metadata": {
    "colab": {
     "base_uri": "https://localhost:8080/",
     "height": 469
    },
    "id": "2WP5LaCSylLg",
    "outputId": "c6b6a3ee-7b90-4088-f5d8-59133d53ee64"
   },
   "outputs": [
    {
     "data": {
      "image/png": "[encoded data removed]",
      "text/plain": [
       "<Figure size 640x480 with 1 Axes>"
      ]
     },
     "metadata": {},
     "output_type": "display_data"
    }
   ],
   "source": [
    "h = sound_levels.hist(bins=100)\n",
    "plt.xlabel(\"dB\")\n",
    "_ = plt.title(\"Sound Level Histogram\")"
   ]
  },
  {
   "cell_type": "markdown",
   "metadata": {
    "id": "sHL25HgwX3_8"
   },
   "source": [
    ":::{note}\n",
    "\n",
    "* We observe that the range of the values is approximately (85 dB, 135 dB). Since those are averaged over 1 hour windows, the actual observed values can fall outside this range.\n",
    "\n",
    "* We also observe that the distribution looks skewed which is typical for sound level distributions. The upper tail is long, which corresponds to rare observations of loud sounds.\n",
    "\n",
    ":::"
   ]
  },
  {
   "cell_type": "markdown",
   "metadata": {
    "id": "KggcMNHhaYDz"
   },
   "source": [
    "### Computing Empirical Probability"
   ]
  },
  {
   "cell_type": "markdown",
   "metadata": {
    "id": "7F1Yiu1CakKy"
   },
   "source": [
    "The **empirical probability** of an event is the relative frequency of the event, or the proportion of trials for which the event occurred."
   ]
  },
  {
   "cell_type": "markdown",
   "metadata": {},
   "source": [
    "**Example:** compute the probability of the event **sound levels > 120 dB**."
   ]
  },
  {
   "cell_type": "code",
   "execution_count": 5,
   "metadata": {
    "colab": {
     "base_uri": "https://localhost:8080/"
    },
    "editable": true,
    "id": "eArjL7cfbX1z",
    "outputId": "776dc90c-ffb5-4cf2-8a4f-5036eee7308a",
    "slideshow": {
     "slide_type": ""
    },
    "tags": []
   },
   "outputs": [
    {
     "data": {
      "text/plain": [
       "0.024642024642024644"
      ]
     },
     "execution_count": 5,
     "metadata": {},
     "output_type": "execute_result"
    }
   ],
   "source": [
    "# let's calculate the proportion of the values\n",
    "\n",
    "# note the BB_20-24000 column name has spaces around it!\n",
    "\n",
    "sum(sound_levels[\" BB_20-24000 \"]>120)/len(sound_levels)"
   ]
  },
  {
   "cell_type": "markdown",
   "metadata": {
    "editable": true,
    "slideshow": {
     "slide_type": ""
    },
    "tags": []
   },
   "source": [
    "The histogram splits the range of the outcomes into small intervals (bins) and computes the frequency of the observed outcomes in each bin. Thus, if we compute the normalized histogram (each frequency is divided by the total number of observations), we can use it to estimate the empirical probability that the sound level falls within a particular interval (by summing the frequency for the bins falling in this interval)."
   ]
  },
  {
   "cell_type": "code",
   "execution_count": 6,
   "metadata": {
    "colab": {
     "base_uri": "https://localhost:8080/",
     "height": 469
    },
    "id": "Qfui69Gkf8Ub",
    "outputId": "bd54a6e8-2442-4f76-a1d1-2463e8721be9"
   },
   "outputs": [
    {
     "data": {
      "image/png": "[encoded data removed]",
      "text/plain": [
       "<Figure size 640x480 with 1 Axes>"
      ]
     },
     "metadata": {},
     "output_type": "display_data"
    }
   ],
   "source": [
    "# Set density=True to plot normalized histogram\n",
    "h = sound_levels[' BB_20-24000 '].hist(bins=100, density=True)\n",
    "plt.title(\"Sound Level Normalized Histogram\")\n",
    "_ = plt.xlabel(\"dB\")"
   ]
  },
  {
   "cell_type": "markdown",
   "metadata": {},
   "source": [
    "**Example:**  compute the probability of the event **100 < sound level < 110**. \n",
    "\n",
    "\n",
    "The area under heights of the histogram bars and between those bounds will roughly correspond to the empirical probability of this event."
   ]
  },
  {
   "cell_type": "code",
   "execution_count": 7,
   "metadata": {
    "id": "Q2lVlHq43nJj"
   },
   "outputs": [],
   "source": [
    "bound_lower = 100\n",
    "bound_upper = 110"
   ]
  },
  {
   "cell_type": "code",
   "execution_count": 8,
   "metadata": {
    "colab": {
     "base_uri": "https://localhost:8080/",
     "height": 469
    },
    "id": "P-1OVztlnz62",
    "outputId": "55647015-c0d2-4b06-a47e-02ed6fcb7e1b"
   },
   "outputs": [
    {
     "data": {
      "image/png": "[encoded data removed]",
      "text/plain": [
       "<Figure size 640x480 with 1 Axes>"
      ]
     },
     "metadata": {},
     "output_type": "display_data"
    }
   ],
   "source": [
    "# calculate normalized histogram and store values\n",
    "h = sound_levels[' BB_20-24000 '].hist(bins=100, density=True)\n",
    "plt.title(\"Sound Level Normalized Histogram\")\n",
    "h = plt.hist(sound_levels[' BB_20-24000 '].values, bins=100, density=True)\n",
    "plt.plot(h[1][:-1], h[0],)\n",
    "plt.fill_between(h[1][:-1], h[0], where=((h[1][:-1]>bound_lower) & (h[1][:-1]<bound_upper)), alpha=0.5)\n",
    "p = sum(h[0][(h[1][:-1]>bound_lower) & (h[1][:-1]<bound_upper)])/sum(h[0])\n",
    "_ = plt.title(\"Probability: {:.2f}\".format(p))"
   ]
  },
  {
   "cell_type": "markdown",
   "metadata": {},
   "source": [
    "### Empirical Probability Widget\n",
    "\n",
    "We will use a widget to explore the empirical probability for arbitrary intervals."
   ]
  },
  {
   "cell_type": "code",
   "execution_count": 9,
   "metadata": {
    "editable": true,
    "id": "4rrE8C8Bx2IO",
    "slideshow": {
     "slide_type": ""
    },
    "tags": [
     "hide-input"
    ]
   },
   "outputs": [],
   "source": [
    "from ipywidgets import interact\n",
    "import ipywidgets as widgets"
   ]
  },
  {
   "cell_type": "code",
   "execution_count": 10,
   "metadata": {
    "editable": true,
    "id": "3FoB16fBrPWo",
    "slideshow": {
     "slide_type": ""
    },
    "tags": [
     "hide-input"
    ]
   },
   "outputs": [],
   "source": [
    "bound_slider = widgets.FloatRangeSlider(\n",
    "    value=[min(sound_levels[' BB_20-24000 ']), max(sound_levels[' BB_20-24000 '])],\n",
    "    min=min(sound_levels[' BB_20-24000 ']),\n",
    "    max=max(sound_levels[' BB_20-24000 ']),\n",
    "    step=0.1,\n",
    "    description='dB Range:',\n",
    "    disabled=False,\n",
    "    continuous_update=False,\n",
    "    orientation='horizontal',\n",
    "    readout=True,\n",
    "    readout_format='.1f',\n",
    "\n",
    ")"
   ]
  },
  {
   "cell_type": "code",
   "execution_count": 11,
   "metadata": {
    "editable": true,
    "id": "sTcIxCkToILS",
    "slideshow": {
     "slide_type": ""
    },
    "tags": [
     "hide-input"
    ]
   },
   "outputs": [],
   "source": [
    "def plot_probability(bounds):\n",
    "  plt.title(\"Sound Level Normalized Histogram\")\n",
    "  h = plt.hist(sound_levels[' BB_20-24000 '].values, bins=100, density=True)\n",
    "  plt.plot(h[1][:-1], h[0])\n",
    "  plt.fill_between(h[1][:-1], h[0], where=((h[1][:-1]>bounds[0]) & (h[1][:-1]<bounds[1])), alpha=0.3, color='g')\n",
    "  p = sum(h[0][(h[1][:-1]>bounds[0]) & (h[1][:-1]<bounds[1])])/sum(h[0])\n",
    "  plt.title(\"Probability: {:.2f}\".format(p))\n",
    "  plt.show()\n"
   ]
  },
  {
   "cell_type": "code",
   "execution_count": 12,
   "metadata": {
    "colab": {
     "base_uri": "https://localhost:8080/",
     "height": 484,
     "referenced_widgets": [
      "a24bfa29ce7149179ae3fbbd6281e040",
      "b99ff98c9f394808ac3b0957e349dd74",
      "5fda81b2e4b7413f93065fafe4928d65",
      "2f8fce68c24e46799ad1402ce47c8ad7",
      "493c6e5a1d464c0b8f480a9869628a52",
      "8c0a01ecffb249a599e7a8a1c74a6857",
      "11d721f3b3e743c28cdaf5c5b863abc4"
     ]
    },
    "editable": true,
    "id": "yqCp5Bpl2qZv",
    "outputId": "54514ccf-c430-4828-ef58-f97ea2909eb2",
    "slideshow": {
     "slide_type": ""
    },
    "tags": [
     "hide-input"
    ]
   },
   "outputs": [
    {
     "data": {
      "application/vnd.jupyter.widget-view+json": {
       "model_id": "4d65fdeb321f45daa8f9d22417699c38",
       "version_major": 2,
       "version_minor": 0
      },
      "text/plain": [
       "interactive(children=(FloatRangeSlider(value=(85.349354, 134.773183), continuous_update=False, description='dB…"
      ]
     },
     "metadata": {},
     "output_type": "display_data"
    }
   ],
   "source": [
    "out = interact(plot_probability, bounds=bound_slider)"
   ]
  }
 ],
 "metadata": {
  "colab": {
   "provenance": []
  },
  "kernelspec": {
   "display_name": "Python 3 (ipykernel)",
   "language": "python",
   "name": "python3"
  },
  "language_info": {
   "codemirror_mode": {
    "name": "ipython",
    "version": 3
   },
   "file_extension": ".py",
   "mimetype": "text/x-python",
   "name": "python",
   "nbconvert_exporter": "python",
   "pygments_lexer": "ipython3",
   "version": "3.12.10"
  },
  "widgets": {
   "application/vnd.jupyter.widget-state+json": {
    "state": {},
    "version_major": 2,
    "version_minor": 0
   }
  }
 },
 "nbformat": 4,
 "nbformat_minor": 4
}
