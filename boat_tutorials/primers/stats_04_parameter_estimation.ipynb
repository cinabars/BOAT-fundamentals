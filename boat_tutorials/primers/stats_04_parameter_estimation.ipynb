{
 "cells": [
  {
   "cell_type": "markdown",
   "metadata": {
    "editable": true,
    "slideshow": {
     "slide_type": ""
    },
    "tags": []
   },
   "source": [
    "# Parameter Estimation"
   ]
  },
  {
   "cell_type": "markdown",
   "metadata": {
    "editable": true,
    "slideshow": {
     "slide_type": ""
    },
    "tags": []
   },
   "source": [
    "```{admonition} Learning Objectives\n",
    ":class: tip\n",
    "* Identify beneficial properties of the Maximum Likelihood Estimator.\n",
    "* Calculate the likelihood for a model with a set of parameters given the observed data.\n",
    "* Construct a procedure to select parameters to increase the likelihood of a model.\n",
    "```"
   ]
  },
  {
   "cell_type": "markdown",
   "metadata": {
    "editable": true,
    "slideshow": {
     "slide_type": ""
    },
    "tags": []
   },
   "source": [
    "## What is a Parameter Estimator?\n",
    "\n",
    "A parameter estimator is a function of the sample approximating a parameter of the distribution.\n",
    "\n",
    "**Example:** \n",
    "\n",
    "* sample mean is an estimator for the mean of the normal distribution\n",
    "* sample variance is an estimator for the variance of the normal distribution\n",
    "\n"
   ]
  },
  {
   "cell_type": "markdown",
   "metadata": {
    "editable": true,
    "slideshow": {
     "slide_type": ""
    },
    "tags": []
   },
   "source": [
    "## Method of Moments Estimator\n",
    "\n",
    "In section [Parametric Distributions](./stats_03_parametric_distributions.ipynb) we used formulas based on sample statistics such as sample mean, variance, and skewness (centered moments) to obtain the model parameters. Those formulas were obtained by matching the sample moments to the theoretical moments of the distribution, and the procedure is called **method of moments**."
   ]
  },
  {
   "cell_type": "markdown",
   "metadata": {
    "editable": true,
    "slideshow": {
     "slide_type": ""
    },
    "tags": []
   },
   "source": [
    "## Maximum Likelihood Estimator\n",
    "\n"
   ]
  },
  {
   "cell_type": "markdown",
   "metadata": {
    "editable": true,
    "slideshow": {
     "slide_type": ""
    },
    "tags": []
   },
   "source": [
    "Given an observed sample $x$ and a probability model with a density function $p_{\\theta}(x)$, the likelihood function is defined as a function of the parameter:\n",
    "\n",
    "$$\\mathcal{L}(\\theta| x) = p_{\\theta}(x)$$\n",
    "\n",
    "When the sample consists of $N$ independent observations $x_1,...,x_N$, the likelihood is:\n",
    "\n",
    "$$\\mathcal{L}(\\theta| x) = \\prod_{i=1}^Np_{\\theta}(x_i)$$\n",
    "\n",
    "When the random variable is discrete, the likelihood of a parameter coincides of with the probability of observing the sample under that distribution:\n",
    "\n",
    "$$P_{\\theta}(X_1 = x_1, X_2 = x_2,..., X_N=x_N) = \\prod_{i=1}^N p_{\\theta}(x_i) = \\mathcal{L}(\\theta| x)$$\n",
    "\n",
    "We want to find the parameter $\\theta$ which maximizes this probability!\n",
    "\n",
    "$$\\hat{\\theta}_{MLE} = \\underset{\\theta}{\\operatorname*{arg max}} {\\textrm{ } \\mathcal{L}(\\theta | x)}$$\n",
    "\n",
    "This approach provides a good estimator even if the variable is continuous!"
   ]
  },
  {
   "cell_type": "markdown",
   "metadata": {
    "editable": true,
    "slideshow": {
     "slide_type": ""
    },
    "tags": []
   },
   "source": [
    "## Evaluating Estimators\n",
    "\n",
    "**MSE** - Mean Squared Error\n",
    "\n",
    "$$ MSE(\\hat \\theta) = \\mathbb{E}_{\\theta}|\\hat \\theta - \\theta|^2$$\n",
    "\n",
    "$$MSE(\\hat \\theta) = bias(\\hat\\theta)^2 + Var(\\hat\\theta)$$"
   ]
  },
  {
   "cell_type": "markdown",
   "metadata": {
    "editable": true,
    "slideshow": {
     "slide_type": ""
    },
    "tags": []
   },
   "source": [
    "Properties of an estimator:\n",
    "* **unbiased**: the expected value of the estimator is equal to the true parameter\n",
    "* **consistent**: as sample size grows, the estimator converges to the true parameter\n",
    "* **efficient**: the estimator has minimum variance\n",
    "\n",
    "\n",
    ":::{note}\n",
    "MLE is **Minimum Variance Unbiased Estimator** as sample size grows.\n",
    ":::"
   ]
  },
  {
   "cell_type": "markdown",
   "metadata": {
    "editable": true,
    "slideshow": {
     "slide_type": ""
    },
    "tags": []
   },
   "source": [
    "## MLE Widget"
   ]
  },
  {
   "cell_type": "code",
   "execution_count": 1,
   "metadata": {
    "editable": true,
    "slideshow": {
     "slide_type": ""
    },
    "tags": []
   },
   "outputs": [],
   "source": [
    "import numpy as np\n",
    "import matplotlib.pyplot as plt\n",
    "from scipy import stats"
   ]
  },
  {
   "cell_type": "code",
   "execution_count": 2,
   "metadata": {
    "editable": true,
    "slideshow": {
     "slide_type": ""
    },
    "tags": [
     "hide-output"
    ]
   },
   "outputs": [
    {
     "name": "stdout",
     "output_type": "stream",
     "text": [
      "--2025-05-16 12:29:38--  https://docs.google.com/uc?export=download&confirm=t&id=1466snzjsXPVTlKnzkkCkdOgwoO5Zvutq\n",
      "Resolving docs.google.com (docs.google.com)... 142.250.217.78, 2607:f8b0:400a:804::200e\n",
      "Connecting to docs.google.com (docs.google.com)|142.250.217.78|:443... connected.\n",
      "HTTP request sent, awaiting response... 303 See Other\n",
      "Location: https://drive.usercontent.google.com/download?id=1466snzjsXPVTlKnzkkCkdOgwoO5Zvutq&export=download [following]\n",
      "--2025-05-16 12:29:38--  https://drive.usercontent.google.com/download?id=1466snzjsXPVTlKnzkkCkdOgwoO5Zvutq&export=download\n",
      "Resolving drive.usercontent.google.com (drive.usercontent.google.com)... 142.251.33.97, 2607:f8b0:400a:80b::2001\n",
      "Connecting to drive.usercontent.google.com (drive.usercontent.google.com)|142.251.33.97|:443... connected.\n",
      "HTTP request sent, awaiting response... 200 OK\n",
      "Length: 5759054 (5.5M) [audio/wav]\n",
      "Saving to: ‘background.wav’\n",
      "\n",
      "background.wav      100%[===================>]   5.49M  --.-KB/s    in 0.08s   \n",
      "\n",
      "2025-05-16 12:29:41 (64.7 MB/s) - ‘background.wav’ saved [5759054/5759054]\n",
      "\n"
     ]
    }
   ],
   "source": [
    "# loading steps\n",
    "\n",
    "!wget --no-check-certificate 'https://docs.google.com/uc?export=download&confirm=t&id=1466snzjsXPVTlKnzkkCkdOgwoO5Zvutq' -O background.wav\n",
    "\n",
    "from scipy.io import wavfile\n",
    "\n",
    "# reading background data\n",
    "samplerate, sound = wavfile.read('background.wav')\n",
    "\n",
    "import numpy as np\n",
    "\n",
    "# first we split small intervals of 0.1s\n",
    "sound_split = np.split(sound[:(len(sound)-len(sound)%samplerate)], len(sound[:(len(sound)-len(sound)%samplerate)])/samplerate*10)\n",
    "\n",
    "# we calculate RMS for each interval\n",
    "RMS_split = [np.sqrt(np.mean(np.square(group.astype('float')))) for group in sound_split]\n",
    "\n",
    "# define the r.v. as X\n",
    "X = 20*np.log10(RMS_split)"
   ]
  },
  {
   "cell_type": "code",
   "execution_count": 3,
   "metadata": {
    "editable": true,
    "slideshow": {
     "slide_type": ""
    },
    "tags": []
   },
   "outputs": [
    {
     "name": "stdout",
     "output_type": "stream",
     "text": [
      "Mean: 41.92\n",
      "Std: 1.82\n"
     ]
    }
   ],
   "source": [
    "# sample mean and variance\n",
    "mean = np.mean(X)\n",
    "std = np.std(X)\n",
    "print(f\"Mean: {mean:.2f}\")\n",
    "print(f\"Std: {std:.2f}\")"
   ]
  },
  {
   "cell_type": "code",
   "execution_count": 4,
   "metadata": {
    "editable": true,
    "slideshow": {
     "slide_type": ""
    },
    "tags": []
   },
   "outputs": [
    {
     "name": "stdout",
     "output_type": "stream",
     "text": [
      "0.0\n"
     ]
    }
   ],
   "source": [
    "# gaussian likelihood\n",
    "gaussian_likelihood = stats.norm.pdf(X, loc=mean, scale=std)\n",
    "L = np.prod(gaussian_likelihood)\n",
    "print(L)\n"
   ]
  },
  {
   "cell_type": "markdown",
   "metadata": {
    "editable": true,
    "slideshow": {
     "slide_type": ""
    },
    "tags": []
   },
   "source": [
    ":::{caution}\n",
    "The likelihood evaluation involves a product of many numbers which often leads to numerical errors: either a rather big number or zero. Instead, we can maximize the logarithm of the likelihood, since log is a monotone function. The logarithm of the product is the sum of the logarithms.\n",
    ":::"
   ]
  },
  {
   "cell_type": "code",
   "execution_count": 5,
   "metadata": {
    "editable": true,
    "slideshow": {
     "slide_type": ""
    },
    "tags": []
   },
   "outputs": [
    {
     "name": "stdout",
     "output_type": "stream",
     "text": [
      "-1191.6218498671105\n"
     ]
    }
   ],
   "source": [
    "# gaussian log-likelihood\n",
    "\n",
    "logL = np.sum(np.log(gaussian_likelihood))\n",
    "print(logL)"
   ]
  },
  {
   "cell_type": "markdown",
   "metadata": {
    "editable": true,
    "slideshow": {
     "slide_type": ""
    },
    "tags": []
   },
   "source": []
  },
  {
   "cell_type": "markdown",
   "metadata": {
    "editable": true,
    "slideshow": {
     "slide_type": ""
    },
    "tags": []
   },
   "source": [
    ":::{note} Note that even if one sample point is outside of the range of the model's probability density function, the evaluation at that point will be zero, and due to the independence assumption the whole likelihood will be zero. That in a way makes sense: if we observe a point which has probability zero for a specific model, then it means that this model has not produced this observation. In practice, there will be always outliers we may not want to fit to.\n",
    ":::"
   ]
  },
  {
   "cell_type": "code",
   "execution_count": 6,
   "metadata": {
    "editable": true,
    "slideshow": {
     "slide_type": ""
    },
    "tags": []
   },
   "outputs": [
    {
     "name": "stdout",
     "output_type": "stream",
     "text": [
      "-1718.7251573821795\n"
     ]
    }
   ],
   "source": [
    "skewnorm_likelihood = stats.skewnorm.pdf(X, a=2, scale=std, loc=mean)\n",
    "logL = np.sum(np.log(skewnorm_likelihood))\n",
    "print(logL)"
   ]
  },
  {
   "cell_type": "markdown",
   "metadata": {
    "editable": true,
    "slideshow": {
     "slide_type": ""
    },
    "tags": []
   },
   "source": [
    "`````{admonition} Exercise\n",
    "\n",
    "Plug-in the numbers from the fitting widget and compare the log-likelihood of the two distributions.\n",
    "\n",
    "`````"
   ]
  },
  {
   "cell_type": "code",
   "execution_count": 7,
   "metadata": {
    "editable": true,
    "slideshow": {
     "slide_type": ""
    },
    "tags": [
     "hide-input"
    ]
   },
   "outputs": [],
   "source": [
    "def plot_skewnorm_density_L(a, scale, loc):\n",
    "  h = plt.hist(X,bins=100, density=True, alpha=0.5)\n",
    "\n",
    "  # evaluate the function at the histogram bins\n",
    "  skewnorm_density = stats.skewnorm.pdf(h[1], a=a, scale=scale, loc=loc)\n",
    "\n",
    "  # evaluation the function at the observations\n",
    "  skewnorm_likelihood = stats.skewnorm.pdf(X, a=a, scale=scale, loc=loc)\n",
    "  L = np.sum(np.log(skewnorm_likelihood))\n",
    "\n",
    "  plt.plot(h[1], skewnorm_density)\n",
    "  plt.title(f\"Log-Likelihood {L:.10f}\")"
   ]
  },
  {
   "cell_type": "code",
   "execution_count": 8,
   "metadata": {
    "editable": true,
    "slideshow": {
     "slide_type": ""
    },
    "tags": [
     "hide-input"
    ]
   },
   "outputs": [],
   "source": [
    "from ipywidgets import interact\n",
    "import ipywidgets as widgets"
   ]
  },
  {
   "cell_type": "code",
   "execution_count": 9,
   "metadata": {
    "editable": true,
    "slideshow": {
     "slide_type": ""
    },
    "tags": [
     "hide-input"
    ]
   },
   "outputs": [],
   "source": [
    "shape_slider = widgets.FloatSlider(\n",
    "    value=0,\n",
    "    min=0.5,\n",
    "    max=10.0,\n",
    "    step=0.5,\n",
    "    description='Shape:',\n",
    "    #disabled=False,\n",
    "    continuous_update=True,\n",
    "    orientation='horizontal',\n",
    "    readout=True,\n",
    "    readout_format='.1f',\n",
    ")\n",
    "scale_slider = widgets.FloatSlider(\n",
    "    value=std,\n",
    "    min=std-1,\n",
    "    max=std+1,\n",
    "    step=0.01,\n",
    "    description='Scale:',\n",
    "    #disabled=False,\n",
    "    continuous_update=True,\n",
    "    orientation='horizontal',\n",
    "    readout=True,\n",
    "    readout_format='.1f',\n",
    ")\n",
    "loc_slider = widgets.FloatSlider(\n",
    "    value=mean,\n",
    "    min=mean-2,\n",
    "    max=mean+2,\n",
    "    step=0.01,\n",
    "    description='Offset:',\n",
    "    # disabled=False,\n",
    "    continuous_update=True,\n",
    "    orientation='horizontal',\n",
    "    readout=True,\n",
    "    readout_format='.1f',\n",
    ")\n"
   ]
  },
  {
   "cell_type": "code",
   "execution_count": 10,
   "metadata": {
    "editable": true,
    "slideshow": {
     "slide_type": ""
    },
    "tags": []
   },
   "outputs": [
    {
     "data": {
      "application/vnd.jupyter.widget-view+json": {
       "model_id": "216bc5dd14aa4cf08375ebc5cad43345",
       "version_major": 2,
       "version_minor": 0
      },
      "text/plain": [
       "interactive(children=(FloatSlider(value=0.5, description='Shape:', max=10.0, min=0.5, readout_format='.1f', st…"
      ]
     },
     "metadata": {},
     "output_type": "display_data"
    }
   ],
   "source": [
    "out = interact(plot_skewnorm_density_L, a = shape_slider, scale = scale_slider, loc = loc_slider)"
   ]
  },
  {
   "cell_type": "markdown",
   "metadata": {
    "editable": true,
    "slideshow": {
     "slide_type": ""
    },
    "tags": []
   },
   "source": [
    "`````{admonition} Exercise\n",
    ":class: tip\n",
    "Select a combination of parameters which \"maximizes\" the log-likelihood.\n",
    "`````"
   ]
  },
  {
   "cell_type": "markdown",
   "metadata": {
    "editable": true,
    "slideshow": {
     "slide_type": ""
    },
    "tags": []
   },
   "source": [
    ":::{note}\n",
    "In practice, usually the maximum likelihood estimate is found numerically through an optimization procedure. In rare cases, such as for the parameters of the Gaussian distribution, it can be solved analytically and corresponds to the sample mean and standard deviation. Try to derive it yourself!\n",
    "::: "
   ]
  }
 ],
 "metadata": {
  "kernelspec": {
   "display_name": "Python 3 (ipykernel)",
   "language": "python",
   "name": "python3"
  },
  "language_info": {
   "codemirror_mode": {
    "name": "ipython",
    "version": 3
   },
   "file_extension": ".py",
   "mimetype": "text/x-python",
   "name": "python",
   "nbconvert_exporter": "python",
   "pygments_lexer": "ipython3",
   "version": "3.12.10"
  },
  "widgets": {
   "application/vnd.jupyter.widget-state+json": {
    "state": {
     "110349a06a5744e5a8dfc63d6efe0a33": {
      "model_module": "@jupyter-widgets/base",
      "model_module_version": "2.0.0",
      "model_name": "LayoutModel",
      "state": {}
     },
     "216bc5dd14aa4cf08375ebc5cad43345": {
      "model_module": "@jupyter-widgets/controls",
      "model_module_version": "2.0.0",
      "model_name": "VBoxModel",
      "state": {
       "_dom_classes": [
        "widget-interact"
       ],
       "children": [
        "IPY_MODEL_c97c2cf98e9041dc9c262b20557b2ad3",
        "IPY_MODEL_50f6d1397fac467e9f0c8e9cb6b60a87",
        "IPY_MODEL_6f31db5557f94b0a8992da11963dfca3",
        "IPY_MODEL_ac86f42e58ec410c8adb7d210370a709"
       ],
       "layout": "IPY_MODEL_804fed9de44a4d419b5fbd5cf2ded26c"
      }
     },
     "3d795cc41e3c466f93c1b4c5c599ceaa": {
      "model_module": "@jupyter-widgets/controls",
      "model_module_version": "2.0.0",
      "model_name": "SliderStyleModel",
      "state": {
       "description_width": ""
      }
     },
     "50f6d1397fac467e9f0c8e9cb6b60a87": {
      "model_module": "@jupyter-widgets/controls",
      "model_module_version": "2.0.0",
      "model_name": "FloatSliderModel",
      "state": {
       "behavior": "drag-tap",
       "description": "Scale:",
       "layout": "IPY_MODEL_ddf90f84de244327827cc6ed4baa9c40",
       "max": 2.823503257049168,
       "min": 0.8235032570491678,
       "readout_format": ".1f",
       "step": 0.01,
       "style": "IPY_MODEL_e276e9b3f43d40c5ab6dd2e6d13037d4",
       "value": 1.8235032570491678
      }
     },
     "64db443d5a6c49508d467adcf672cf11": {
      "model_module": "@jupyter-widgets/controls",
      "model_module_version": "2.0.0",
      "model_name": "SliderStyleModel",
      "state": {
       "description_width": ""
      }
     },
     "6f31db5557f94b0a8992da11963dfca3": {
      "model_module": "@jupyter-widgets/controls",
      "model_module_version": "2.0.0",
      "model_name": "FloatSliderModel",
      "state": {
       "behavior": "drag-tap",
       "description": "Offset:",
       "layout": "IPY_MODEL_110349a06a5744e5a8dfc63d6efe0a33",
       "max": 43.91818473777287,
       "min": 39.91818473777287,
       "readout_format": ".1f",
       "step": 0.01,
       "style": "IPY_MODEL_64db443d5a6c49508d467adcf672cf11",
       "value": 41.91818473777287
      }
     },
     "804fed9de44a4d419b5fbd5cf2ded26c": {
      "model_module": "@jupyter-widgets/base",
      "model_module_version": "2.0.0",
      "model_name": "LayoutModel",
      "state": {}
     },
     "91886ace44774b51ac3205978ec42a6f": {
      "model_module": "@jupyter-widgets/base",
      "model_module_version": "2.0.0",
      "model_name": "LayoutModel",
      "state": {}
     },
     "ac86f42e58ec410c8adb7d210370a709": {
      "model_module": "@jupyter-widgets/output",
      "model_module_version": "1.0.0",
      "model_name": "OutputModel",
      "state": {
       "layout": "IPY_MODEL_91886ace44774b51ac3205978ec42a6f",
       "outputs": [
        {
         "data": {
          "image/png": "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",
          "text/plain": "<Figure size 640x480 with 1 Axes>"
         },
         "metadata": {},
         "output_type": "display_data"
        }
       ]
      }
     },
     "be35cf6341aa4c91b27ab421a319bcaa": {
      "model_module": "@jupyter-widgets/base",
      "model_module_version": "2.0.0",
      "model_name": "LayoutModel",
      "state": {}
     },
     "c97c2cf98e9041dc9c262b20557b2ad3": {
      "model_module": "@jupyter-widgets/controls",
      "model_module_version": "2.0.0",
      "model_name": "FloatSliderModel",
      "state": {
       "behavior": "drag-tap",
       "description": "Shape:",
       "layout": "IPY_MODEL_be35cf6341aa4c91b27ab421a319bcaa",
       "max": 10,
       "min": 0.5,
       "readout_format": ".1f",
       "step": 0.5,
       "style": "IPY_MODEL_3d795cc41e3c466f93c1b4c5c599ceaa",
       "value": 0.5
      }
     },
     "ddf90f84de244327827cc6ed4baa9c40": {
      "model_module": "@jupyter-widgets/base",
      "model_module_version": "2.0.0",
      "model_name": "LayoutModel",
      "state": {}
     },
     "e276e9b3f43d40c5ab6dd2e6d13037d4": {
      "model_module": "@jupyter-widgets/controls",
      "model_module_version": "2.0.0",
      "model_name": "SliderStyleModel",
      "state": {
       "description_width": ""
      }
     }
    },
    "version_major": 2,
    "version_minor": 0
   }
  }
 },
 "nbformat": 4,
 "nbformat_minor": 4
}
