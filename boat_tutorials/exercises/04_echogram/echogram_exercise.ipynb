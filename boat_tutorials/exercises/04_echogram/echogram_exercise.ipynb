{
 "cells": [
  {
   "cell_type": "markdown",
   "id": "981036b5-489e-40ce-ba8f-f1d9fc51e8fa",
   "metadata": {},
   "source": [
    "# Interpreting echograms"
   ]
  },
  {
   "cell_type": "markdown",
   "id": "c0d2ed05-2ea1-4be3-a64b-a0f671d66aef",
   "metadata": {},
   "source": [
    ":::{admonition} Exercise 1\n",
    "The scattering phenomena in the two echograms below appear very different. Based on what we know about sound propagation and scattering, what biological and/or physical factors do you think can explain these difference?\n",
    "\n",
    "```{image} ./echogram1.png\n",
    ":width: 510px\n",
    ":align: center\n",
    "```\n",
    "\n",
    "```{image} ./echogram2.png\n",
    ":width: 500px\n",
    ":align: center\n",
    "```\n",
    ":::"
   ]
  },
  {
   "cell_type": "markdown",
   "id": "17b0b13f-9b1d-424a-85e6-50803f633f6a",
   "metadata": {},
   "source": [
    ":::{admonition} Exercise 2\n",
    "The two echograms below are the same \"view\" of the ocean observed at different frequencies. Based on what you know about transmission loss, which one do you this came from a higher frequency channel?\n",
    "\n",
    "```{image} ./echogram3.png\n",
    ":width: 500px\n",
    ":align: center\n",
    "```\n",
    "\n",
    "```{image} ./echogram4.png\n",
    ":width: 500px\n",
    ":align: center\n",
    "```\n",
    ":::"
   ]
  },
  {
   "cell_type": "code",
   "execution_count": null,
   "id": "66f5a392-43bc-4713-8ab6-a234874d16d6",
   "metadata": {},
   "outputs": [],
   "source": []
  }
 ],
 "metadata": {
  "kernelspec": {
   "display_name": "Python 3 (ipykernel)",
   "language": "python",
   "name": "python3"
  },
  "language_info": {
   "codemirror_mode": {
    "name": "ipython",
    "version": 3
   },
   "file_extension": ".py",
   "mimetype": "text/x-python",
   "name": "python",
   "nbconvert_exporter": "python",
   "pygments_lexer": "ipython3",
   "version": "3.12.9"
  },
  "widgets": {
   "application/vnd.jupyter.widget-state+json": {
    "state": {},
    "version_major": 2,
    "version_minor": 0
   }
  }
 },
 "nbformat": 4,
 "nbformat_minor": 5
}
