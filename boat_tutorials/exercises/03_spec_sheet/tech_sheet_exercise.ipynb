{
 "cells": [
  {
   "cell_type": "markdown",
   "id": "9d0b369e-1372-4333-8ad1-f1810037bc79",
   "metadata": {
    "editable": true,
    "slideshow": {
     "slide_type": ""
    },
    "tags": []
   },
   "source": [
    "# Tech sheet exercise"
   ]
  },
  {
   "cell_type": "markdown",
   "id": "cee30a9b-924e-4f77-851f-1cb3a12c26ab",
   "metadata": {},
   "source": [
    "In this exercise, you will be using the two instrumentation tech sheets:\n",
    "- [Technical Specs for the Nortek Sig100](https://www.nortekgroup.com/products/signature100/pdf)\n",
    "- [Assembly drawing for the Sig100](https://www.nortekgroup.com/assets/documents/NGA061-007....Rev.A...Signature-100-General-Assembly.pdf)"
   ]
  },
  {
   "cell_type": "markdown",
   "id": "a34c272f-b71e-48c0-8c4d-06c9d54ed1fd",
   "metadata": {
    "editable": true,
    "slideshow": {
     "slide_type": ""
    },
    "tags": []
   },
   "source": [
    "Using the tech sheets, try to answer the questions below:\n",
    "1. If we want to use the echosounder option on the Nortek Signature 100, at what frequencies can we use the echosounder?\n",
    "2. What types of signals can we transmit?\n",
    "3. What is the beamwidth of the echosounder the measurement frequencies?\n",
    "4. How is the beamwidth measured i.e. is it at the 3dB down points? 6 dB down? 10 dB down?\n",
    "    - Could we use the our widget to figure this out if we knew the transducer radius?\n",
    "    - From the assembly drawing, the diameter is 11.6 cm, so the radius is 5.8 cm.\n",
    "6. Given the frequency and radius of the transducer, where do we transition from the near-field to the far-field of the transducer.\n",
    "    - Use the simple relationships in `SL_3_Near_Field_and_Source_Level.ipynb` or the widget. Are there differences?\n",
    "7. What is the source level? Will we be able to relate the signals measured with the echosounder to the RL? (We are going to need to calibrate!)"
   ]
  },
  {
   "cell_type": "code",
   "execution_count": null,
   "id": "1299cd44-150c-4f83-8735-b2db51107e32",
   "metadata": {
    "editable": true,
    "slideshow": {
     "slide_type": ""
    },
    "tags": []
   },
   "outputs": [],
   "source": []
  }
 ],
 "metadata": {
  "kernelspec": {
   "display_name": "Python 3 (ipykernel)",
   "language": "python",
   "name": "python3"
  },
  "language_info": {
   "codemirror_mode": {
    "name": "ipython",
    "version": 3
   },
   "file_extension": ".py",
   "mimetype": "text/x-python",
   "name": "python",
   "nbconvert_exporter": "python",
   "pygments_lexer": "ipython3",
   "version": "3.12.9"
  },
  "widgets": {
   "application/vnd.jupyter.widget-state+json": {
    "state": {},
    "version_major": 2,
    "version_minor": 0
   }
  }
 },
 "nbformat": 4,
 "nbformat_minor": 5
}
