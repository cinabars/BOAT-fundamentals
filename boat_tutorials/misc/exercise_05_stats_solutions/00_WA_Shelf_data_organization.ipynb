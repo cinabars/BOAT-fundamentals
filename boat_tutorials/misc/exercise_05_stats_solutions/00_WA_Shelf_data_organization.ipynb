{
 "cells": [
  {
   "cell_type": "code",
   "execution_count": 1,
   "id": "a4f0ad30",
   "metadata": {},
   "outputs": [],
   "source": [
    "from pathlib import Path\n",
    "\n",
    "import scipy.signal as signal\n",
    "import matplotlib.pyplot as plt\n",
    "import scipy.io as io\n",
    "import numpy as np"
   ]
  },
  {
   "cell_type": "code",
   "execution_count": 2,
   "id": "8f92c15e",
   "metadata": {},
   "outputs": [],
   "source": [
    "data_path = Path(\"../../../WA_shelf_FullData\")"
   ]
  },
  {
   "cell_type": "code",
   "execution_count": 3,
   "id": "a832b398",
   "metadata": {},
   "outputs": [
    {
     "data": {
      "text/plain": [
       "2227"
      ]
     },
     "execution_count": 3,
     "metadata": {},
     "output_type": "execute_result"
    }
   ],
   "source": [
    "mat_files = sorted(list(data_path.glob(\"*.mat\")))\n",
    "len(mat_files)"
   ]
  },
  {
   "cell_type": "markdown",
   "id": "34dc896f",
   "metadata": {},
   "source": [
    "## Training Data Generation:"
   ]
  },
  {
   "cell_type": "code",
   "execution_count": null,
   "id": "3b4bc306",
   "metadata": {},
   "outputs": [
    {
     "ename": "",
     "evalue": "",
     "output_type": "error",
     "traceback": [
      "\u001b[1;31mThe Kernel crashed while executing code in the current cell or a previous cell. \n",
      "\u001b[1;31mPlease review the code in the cell(s) to identify a possible cause of the failure. \n",
      "\u001b[1;31mClick <a href='https://aka.ms/vscodeJupyterKernelCrash'>here</a> for more info. \n",
      "\u001b[1;31mView Jupyter <a href='command:jupyter.viewOutput'>log</a> for further details."
     ]
    }
   ],
   "source": [
    "# build the dictionary for the data \n",
    "\n",
    "\n",
    "# build ping dictionary\n",
    "d_bg = {}\n",
    "for file in mat_files[-500:]:\n",
    "    ff = io.loadmat(file)\n",
    "    date_string = str(file).split(\".\")[-2].split(\"/\")[-1].split(\"_\")[-1]\n",
    "    signal = ff[\"DataSegment1\"][:,-1]  # background channel 4 (deepest channel)\n",
    "    d_bg[date_string] = signal"
   ]
  },
  {
   "cell_type": "code",
   "execution_count": null,
   "id": "226b79e3",
   "metadata": {},
   "outputs": [],
   "source": [
    "# build the dictionary for the data \n",
    "\n",
    "\n",
    "# build ping dictionary\n",
    "d_tr = {}\n",
    "for file in mat_files[-500:]:\n",
    "    ff = io.loadmat(file)\n",
    "    date_string = str(file).split(\".\")[-2].split(\"/\")[-1].split(\"_\")[-1]\n",
    "    signal = ff[\"DataSegment2\"][:,-1]  #  transmission channel 4 (deepest channel)\n",
    "    d_tr[date_string] = signal"
   ]
  },
  {
   "cell_type": "code",
   "execution_count": null,
   "id": "74198080",
   "metadata": {},
   "outputs": [],
   "source": [
    "import pandas as pd\n",
    "df_tr = pd.DataFrame(d_tr)"
   ]
  },
  {
   "cell_type": "code",
   "execution_count": null,
   "id": "aa9febcd",
   "metadata": {},
   "outputs": [],
   "source": [
    "df_bg = pd.DataFrame(d_bg)"
   ]
  },
  {
   "cell_type": "code",
   "execution_count": null,
   "id": "da070bfc",
   "metadata": {},
   "outputs": [],
   "source": [
    "df_tr.to_csv(\"df_tr.csv\", index=None)"
   ]
  },
  {
   "cell_type": "code",
   "execution_count": null,
   "id": "d6750d7a",
   "metadata": {},
   "outputs": [],
   "source": [
    "df_bg.to_csv(\"df_bg.csv\", index=None)"
   ]
  },
  {
   "cell_type": "markdown",
   "id": "0aa5e12b",
   "metadata": {},
   "source": [
    "## Testing Data Generation:"
   ]
  },
  {
   "cell_type": "code",
   "execution_count": 4,
   "id": "e1772876",
   "metadata": {},
   "outputs": [],
   "source": [
    "# build the dictionary for the data \n",
    "\n",
    "\n",
    "# build ping dictionary\n",
    "d_bg = {}\n",
    "for file in mat_files[-900:-500]:\n",
    "    ff = io.loadmat(file)\n",
    "    date_string = str(file).split(\".\")[-2].split(\"/\")[-1].split(\"_\")[-1]\n",
    "    signal = ff[\"DataSegment1\"][:,-1]  # background channel 4 (deepest channel)\n",
    "    d_bg[date_string] = signal"
   ]
  },
  {
   "cell_type": "code",
   "execution_count": 5,
   "id": "f2f763d3",
   "metadata": {},
   "outputs": [],
   "source": [
    "# build the dictionary for the data \n",
    "\n",
    "\n",
    "# build ping dictionary\n",
    "d_tr = {}\n",
    "for file in mat_files[-900:-500]:\n",
    "    ff = io.loadmat(file)\n",
    "    date_string = str(file).split(\".\")[-2].split(\"/\")[-1].split(\"_\")[-1]\n",
    "    signal = ff[\"DataSegment2\"][:,-1]  # transmission channel 4 (deepest channel)\n",
    "    d_tr[date_string] = signal"
   ]
  },
  {
   "cell_type": "code",
   "execution_count": 6,
   "id": "afc3b938",
   "metadata": {},
   "outputs": [],
   "source": [
    "import pandas as pd\n",
    "df_tr = pd.DataFrame(d_tr)"
   ]
  },
  {
   "cell_type": "code",
   "execution_count": 7,
   "id": "296bd0c2",
   "metadata": {},
   "outputs": [],
   "source": [
    "df_bg = pd.DataFrame(d_bg)"
   ]
  },
  {
   "cell_type": "code",
   "execution_count": 8,
   "id": "117cad61",
   "metadata": {},
   "outputs": [],
   "source": [
    "df_tr.to_csv(\"df_tr_test.csv\", index=None)"
   ]
  },
  {
   "cell_type": "code",
   "execution_count": 9,
   "id": "94bded98",
   "metadata": {},
   "outputs": [],
   "source": [
    "df_bg.to_csv(\"df_bg_test.csv\", index=None)"
   ]
  },
  {
   "cell_type": "code",
   "execution_count": 10,
   "id": "b2060865",
   "metadata": {},
   "outputs": [],
   "source": [
    "import scipy as sp\n",
    "\n",
    "def BandPass(inputSignal, bandLimits, freqSample):\n",
    "    sos = sp.signal.butter(4, bandLimits, 'bandpass', fs = freqSample, output='sos')\n",
    "    outputSignal = sp.signal.sosfilt(sos,inputSignal)\n",
    "    \n",
    "    return outputSignal"
   ]
  },
  {
   "cell_type": "code",
   "execution_count": 11,
   "id": "66da3ece",
   "metadata": {},
   "outputs": [],
   "source": [
    "flimits = [3450, 3550]"
   ]
  },
  {
   "cell_type": "code",
   "execution_count": 12,
   "id": "835e41a7",
   "metadata": {},
   "outputs": [],
   "source": [
    "fs = 48000"
   ]
  },
  {
   "cell_type": "code",
   "execution_count": 13,
   "id": "c20da5a0",
   "metadata": {},
   "outputs": [],
   "source": [
    "bg_all, tr_all = {}, {}\n",
    "\n",
    "for col in df_bg:\n",
    "\n",
    "    bg_ch4_filt = BandPass(df_bg[col], flimits, fs)\n",
    "    bg_all[col] = 20*np.log10(np.sqrt(np.mean(np.square(bg_ch4_filt.astype('float')))))\n",
    "\n",
    "\n",
    "for col in df_tr:\n",
    "\n",
    "    tr_ch4_filt = BandPass(df_tr[col], flimits, fs)\n",
    "    tr_all[col] = 20*np.log10(np.sqrt(np.mean(np.square(tr_ch4_filt.astype('float')))))"
   ]
  },
  {
   "cell_type": "code",
   "execution_count": 14,
   "id": "1ca51a95",
   "metadata": {},
   "outputs": [],
   "source": [
    "# convert to DataFrame\n",
    "df_bg_all = pd.Series(bg_all)\n",
    "df_tr_all = pd.Series(tr_all)"
   ]
  },
  {
   "cell_type": "code",
   "execution_count": 15,
   "id": "5842095a",
   "metadata": {},
   "outputs": [],
   "source": [
    "# sort values\n",
    "df_bg_all = df_bg_all.sort_values()\n",
    "df_tr_all = df_tr_all.sort_values()"
   ]
  },
  {
   "cell_type": "code",
   "execution_count": null,
   "id": "fafb14f4",
   "metadata": {},
   "outputs": [
    {
     "ename": "",
     "evalue": "",
     "output_type": "error",
     "traceback": [
      "\u001b[1;31mThe Kernel crashed while executing code in the current cell or a previous cell. \n",
      "\u001b[1;31mPlease review the code in the cell(s) to identify a possible cause of the failure. \n",
      "\u001b[1;31mClick <a href='https://aka.ms/vscodeJupyterKernelCrash'>here</a> for more info. \n",
      "\u001b[1;31mView Jupyter <a href='command:jupyter.viewOutput'>log</a> for further details."
     ]
    }
   ],
   "source": [
    "# sort original table by sorted RMS\n",
    "df_tr[df_tr_all.index].to_csv('df_tr_test_sorted.csv', index=None)\n",
    "df_bg[df_bg_all.index].to_csv('df_bg_test_sorted.csv', index=None)"
   ]
  },
  {
   "cell_type": "code",
   "execution_count": null,
   "id": "4c005f1a",
   "metadata": {},
   "outputs": [],
   "source": []
  },
  {
   "cell_type": "code",
   "execution_count": null,
   "id": "25e8f006",
   "metadata": {},
   "outputs": [],
   "source": []
  }
 ],
 "metadata": {
  "kernelspec": {
   "display_name": "Python 3 (ipykernel)",
   "language": "python",
   "name": "python3"
  },
  "language_info": {
   "codemirror_mode": {
    "name": "ipython",
    "version": 3
   },
   "file_extension": ".py",
   "mimetype": "text/x-python",
   "name": "python",
   "nbconvert_exporter": "python",
   "pygments_lexer": "ipython3",
   "version": "3.12.10"
  },
  "widgets": {
   "application/vnd.jupyter.widget-state+json": {
    "state": {},
    "version_major": 2,
    "version_minor": 0
   }
  }
 },
 "nbformat": 4,
 "nbformat_minor": 5
}
