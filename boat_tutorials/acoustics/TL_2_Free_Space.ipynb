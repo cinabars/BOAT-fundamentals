{
 "cells": [
  {
   "cell_type": "markdown",
   "metadata": {
    "slideshow": {
     "slide_type": ""
    },
    "tags": []
   },
   "source": [
    "# Propagation of Sound in Open Water\n",
    "\n",
    "In [How do acoustics signals look like?]((acoustics-receiver_time_series)), we talked about a sound wave and considered what the sound would look like if you were measuring it at a single point using a hydrophone. This measured sound is only a small part of the much larger distribution of sound traveling through the water. It might be coming from a single source, many sources, or from reflection and scattering from surfaces and objects in the medium. The sound field can become complicated very quickly if we take into account all of the sound moving through the ocean. Instead, let's start by considering a couple simple sound waves.\n"
   ]
  },
  {
   "cell_type": "markdown",
   "metadata": {},
   "source": [
    "\n",
    "## The plane wave\n",
    "\n",
    "Probably the simplest form of sound propagation is the **plane wave**. This is a situation where (1) the sound at every point in the water is traveling in the same direction and (2) the sound has the same amplitude in planes that are perpendicular to the direction of propagation.  The animation below shows the pressure in the x-y plane for a propagating plane wave where the sound is traveling in the x-direction. For this particular case, the wavelength of the wave is 2 m and the amplitude has been chosen to be 1 $\\mu Pa$. Notice that in this cross-section of the field, there are lines of constant pressure extending in the y-direction. These lines of constant pressure correspond to lines of constant phase in the wave and these lines are usually referred to as **wave fronts.** Notice that the sound is propagating in the direction perpendicular to the wavefront.\n",
    "\n",
    "```{image} ../images/PlaneWave.gif\n",
    ":width: 400px\n",
    "```"
   ]
  },
  {
   "cell_type": "markdown",
   "metadata": {},
   "source": [
    "(acoustics-spherical_wave)=\n",
    "## The spherical wave\n",
    "\n",
    "Another simple sound wave is the **spherical wave**. For this type of wave, the sound is propagateing in all directions away from a single point. The animation below shows the pressure in the x-y plane for a spherical wave centered on $x = y = 0$. In this case, the wavefronts form circles about the origin and in three dimensions they form spheres. Unlike the plane wave, the spreading of the sound from a single point leads to a decrease in amplitude as you move away from the center. The magnitude of the pressure is inversely proportional to the distance, $r$, from the center, $P \\propto 1/r$. The intensity of the sound is then proportional to the square of the distance, $I \\propto P^2 \\propto 1/r^2$. Also notice that the sound is again propagating in a direction perpendicular to the wavefront. In fact, this is a key point about propagating sound: **Sound always travels in the direction perpendicular to the wavefront.** We will revisit some of the consequences of this property when we examine [acoustic refraction](acoustics-refraction).\n",
    "\n",
    "```{image} ../images/SphericalWave.gif\n",
    ":width: 400px\n",
    "```\n",
    "\n",
    "Spherical waves are typically generated using a [spherical source](acoustics-spherical_source). In the animation, a small black circle has been placed in the center to denote the location of the source. In the widget later in this notebook and in subsequent notebooks, we will consider a special case of the spherical source called the **point source**. This is an artificial spherical source, useful for modeling and simulation, where the radius of source has been allowed to decrease to zero without affecting the level of the transmitted sound.  In the remainder of this section, we will use this simple source to explore what happens to the sound it produces when we introduce other simple sources, changes in the properties of the water, or boundaries such as the sea surface or seafloor. To keep things simple, we will assume a [source level]((acoustics-source_level)), $SL$, of 0 dB, which means that at 1 m from the source, the magnitude of the pressure will be about 1.4 $\\mu Pa$.\n",
    "\n",
    ":::{admonition} Note\n",
    "Why consider an unrealistic point source instead of a more realistic spherical source? As you move closer to a transducer you enter into the [near-field of the transducer]((acoustics-near_field)) where the sound from different parts of the transducer surface interfere created a complicated sound field. The spherical source also has a near field, the boundary of which is proportional to both the frequency of the transmitted sound and the radius of the source. By reducing that radius to a point, we eliminate the near field. Thus the point source is a useful, but artificial sound source.\n",
    "::: "
   ]
  },
  {
   "cell_type": "markdown",
   "metadata": {},
   "source": [
    "\n",
    "## Interference of sound\n",
    "\n",
    "Before we look at how the underwater environment affects the sound from our point source, we will begin by considering how sound interacts with sound. This interaction of sound with sound can be caused by multiple sources (as we will examine in this notebook) or by the environment reflecting or refracting the sound from a single source, causing it to interact with itself. When sound interacts with sound, two things happen:\n",
    "\n",
    "1. The propagating sound doesn't change it's path or properties.\n",
    "2. Sound propagating from different directions and/or with different frequencies will interfere with one another at the points where their paths intersect.\n",
    "\n",
    "To see this, will use a simple widget that simulates the sound emitted by either one or two point sources. When source #2 is off, the plot shows something very similar to the animation above for a spherical wave, but only a single instance of time. When the second source is turned on and the plot is set to show pressure, the circular wavefronts remain, but now there is **interference** between the two sound fields. Interference occurs because at each point the total pressure is the sum of the pressures from the the two sources. If the pressures are roughly the same (either both have positive or negative values), the addition leads to a larger pressure magnitude. This is called **constructive interference**. When the pressures have opposite signs, the two pressures cancel which leads to **destructive interference.** This is more clearly seen in the intensity plot where the destructive interference corresponds to the lines of low intensity which pass between the two sources. "
   ]
  },
  {
   "cell_type": "code",
   "execution_count": 1,
   "metadata": {
    "slideshow": {
     "slide_type": ""
    },
    "tags": [
     "hide-input"
    ]
   },
   "outputs": [],
   "source": [
    "# Import packages\n",
    "import numpy as np\n",
    "import matplotlib.pyplot as plt\n",
    "import ipywidgets as widgets\n",
    "\n",
    "# Set inline\n",
    "%matplotlib inline"
   ]
  },
  {
   "cell_type": "code",
   "execution_count": 2,
   "metadata": {
    "slideshow": {
     "slide_type": ""
    },
    "tags": [
     "hide-input"
    ]
   },
   "outputs": [
    {
     "data": {
      "application/vnd.jupyter.widget-view+json": {
       "model_id": "1d348f39c96b436496bbf6974737a73e",
       "version_major": 2,
       "version_minor": 0
      },
      "text/plain": [
       "interactive(children=(Dropdown(description='Source 2', layout=Layout(height='30px', width='500px'), options=('…"
      ]
     },
     "metadata": {},
     "output_type": "display_data"
    }
   ],
   "source": [
    "def two_sources_field(source_2, plot_type, frequency, distance_apart):\n",
    "    \"\"\"\n",
    "    Plot two sources field.\n",
    "    \"\"\"\n",
    "    # Speed of sound (m/s)\n",
    "    c = 1500.0\n",
    "    \n",
    "    # Pressure amplitudes\n",
    "    SL = 0\n",
    "    A_SL = 10**(SL/20)\n",
    "\n",
    "    # Turn on or off second source\n",
    "    A2 = 1 if source_2 == \"On\" else 0\n",
    "\n",
    "    # Maximum seperation between sources\n",
    "    dmax = 10\n",
    "\n",
    "    # Compute domain of calculation\n",
    "    Lx = 2 * dmax\n",
    "    Ly = 2 * dmax\n",
    "    Nx = 150\n",
    "    Ny = Nx\n",
    "    x = np.linspace(-Lx, Lx, Nx)\n",
    "    y = np.linspace(-Ly, Ly, Ny)\n",
    "    X, Y = np.meshgrid(x, y)\n",
    "\n",
    "    # Determine pressure field from each source and sum\n",
    "\n",
    "    # Distance from source #1 to each point\n",
    "    r1 = np.sqrt((X - distance_apart/2)**2 + Y**2)\n",
    "\n",
    "    # Distance from source #2 to each point\n",
    "    r2 = np.sqrt((X + distance_apart/2)**2 + Y**2)\n",
    "\n",
    "    # Pressure due to source #1\n",
    "    p1 = A_SL * np.exp(1j * 2*np.pi*frequency*r1/c) / r1\n",
    "\n",
    "    # Pressure due to source #2\n",
    "    p2 = A_SL * A2 * np.exp(1j * 2*np.pi*frequency*r2/c) / r2\n",
    "\n",
    "    # Coherent sum of pressures\n",
    "    p = p1 + p2\n",
    "\n",
    "    # Create plot for either pressure or intensity acoustic fields\n",
    "    fig, ax = plt.subplots(figsize=(8, 6))\n",
    "    if plot_type == \"Pressure\":\n",
    "        pressure_data = np.real(p) * np.sqrt(2)\n",
    "        im = ax.imshow(pressure_data, extent=[x[0], x[-1], y[0], y[-1]], origin=\"lower\", cmap=\"viridis\", vmin=-2, vmax=2)\n",
    "        ax.set_xlabel(\"x (m)\")\n",
    "        ax.set_ylabel(\"y (m)\")\n",
    "        cbar = fig.colorbar(im, ax=ax)\n",
    "        cbar.set_label(\"Pressure (µPa)\")\n",
    "    else:\n",
    "        intensity_data = 20 * np.log10(np.abs(p))\n",
    "        im = ax.imshow(intensity_data, extent=[x[0], x[-1], y[0], y[-1]], origin=\"lower\", cmap=\"viridis\", vmin=-40, vmax=5)\n",
    "        ax.set_xlabel(\"x (m)\")\n",
    "        ax.set_ylabel(\"y (m)\")\n",
    "        cbar = fig.colorbar(im, ax=ax)\n",
    "        cbar.set_label(\"Intensity (dB re 1 µPa)\")\n",
    "    ax.set_title(\"Acoustic Field\")\n",
    "\n",
    "    # Show plot\n",
    "    plt.show()\n",
    "\n",
    "# Create the interactive widgets\n",
    "layout = widgets.Layout(width=\"500px\", height=\"30px\")\n",
    "_ = widgets.interact(\n",
    "    two_sources_field,\n",
    "    source_2=widgets.Dropdown(\n",
    "        options=[\"On\", \"Off\"],\n",
    "        value=\"On\",\n",
    "        description=\"Source 2\",\n",
    "        style={\"description_width\": \"initial\"}, \n",
    "        layout=layout,\n",
    "    ),\n",
    "    plot_type=widgets.Dropdown(\n",
    "        options=[\"Pressure\", \"Intensity\"],\n",
    "        value=\"Intensity\",\n",
    "        description=\"Plot Type\",\n",
    "        style={\"description_width\": \"initial\"}, \n",
    "        layout=layout,\n",
    "    ),\n",
    "    frequency=widgets.FloatSlider(\n",
    "        value=1200.0,\n",
    "        min=600.0,\n",
    "        max=1800.0,\n",
    "        step=5.0,\n",
    "        description=\"Frequency (Hz)\",\n",
    "        style={\"description_width\": \"initial\"}, \n",
    "        layout=layout,\n",
    "    ),\n",
    "    distance_apart=widgets.FloatSlider(\n",
    "        value=5.5,\n",
    "        min=0,\n",
    "        max=20,\n",
    "        step=0.1,\n",
    "        description=\"Distance Apart (m)\",\n",
    "        style={\"description_width\": \"initial\"}, \n",
    "        layout=layout,\n",
    "    )\n",
    ")"
   ]
  }
 ],
 "metadata": {
  "kernelspec": {
   "display_name": "Python 3 (ipykernel)",
   "language": "python",
   "name": "python3"
  },
  "language_info": {
   "codemirror_mode": {
    "name": "ipython",
    "version": 3
   },
   "file_extension": ".py",
   "mimetype": "text/x-python",
   "name": "python",
   "nbconvert_exporter": "python",
   "pygments_lexer": "ipython3",
   "version": "3.12.2"
  },
  "widgets": {
   "application/vnd.jupyter.widget-state+json": {
    "state": {
     "03600bea66994ba78fc4ea60dba2e6a7": {
      "model_module": "@jupyter-widgets/base",
      "model_module_version": "2.0.0",
      "model_name": "LayoutModel",
      "state": {
       "_view_name": "ErrorWidgetView",
       "error": {},
       "msg": "Failed to load model class 'LayoutModel' from module '@jupyter-widgets/base'"
      }
     },
     "19e862ef46474f81adf4ed6bcaf12015": {
      "model_module": "@jupyter-widgets/controls",
      "model_module_version": "2.0.0",
      "model_name": "VBoxModel",
      "state": {
       "_dom_classes": [
        "widget-interact"
       ],
       "_view_name": "ErrorWidgetView",
       "children": [
        "IPY_MODEL_ba526011891b4c619cceeeaa81e1f384",
        "IPY_MODEL_51edf0e360fe4a6eb84fa6714ffd3a53",
        "IPY_MODEL_66ab145856ed487f9efe6961fdf34dd4",
        "IPY_MODEL_d168cb39e0094d9fbd59c02645d66d64",
        "IPY_MODEL_de835f559c0341f28152fda8baf5ba04"
       ],
       "error": {},
       "layout": "IPY_MODEL_4440e0be43ff4e6c8ce574c9c769c262",
       "msg": "Failed to load model class 'VBoxModel' from module '@jupyter-widgets/controls'"
      }
     },
     "1d348f39c96b436496bbf6974737a73e": {
      "model_module": "@jupyter-widgets/controls",
      "model_module_version": "2.0.0",
      "model_name": "VBoxModel",
      "state": {
       "_dom_classes": [
        "widget-interact"
       ],
       "children": [
        "IPY_MODEL_9d7c7d7318804728b19c0b0d9f7805b8",
        "IPY_MODEL_20b6e6ed889a468e9b27325b4e4735ce",
        "IPY_MODEL_fa1391f8f9e240748800c9215738c420",
        "IPY_MODEL_b536d7e87e6a4b0c8de9cc9330a239a5",
        "IPY_MODEL_6af430c8a44d418485b8c20373436dc2"
       ],
       "layout": "IPY_MODEL_5e57de970648499b94f2e624f46fdb6d"
      }
     },
     "20b6e6ed889a468e9b27325b4e4735ce": {
      "model_module": "@jupyter-widgets/controls",
      "model_module_version": "2.0.0",
      "model_name": "DropdownModel",
      "state": {
       "_options_labels": [
        "Pressure",
        "Intensity"
       ],
       "description": "Plot Type",
       "index": 1,
       "layout": "IPY_MODEL_3a8b2eb3bf8f4a7a9a3ae7782a25d480",
       "style": "IPY_MODEL_ca37253d933c4cb49920a363d1ab5f0d"
      }
     },
     "30e96f6c767d49a68d86be1ff961a8d4": {
      "model_module": "@jupyter-widgets/controls",
      "model_module_version": "2.0.0",
      "model_name": "SliderStyleModel",
      "state": {
       "_view_name": "ErrorWidgetView",
       "description_width": "initial",
       "error": {},
       "msg": "Failed to load model class 'SliderStyleModel' from module '@jupyter-widgets/controls'"
      }
     },
     "39b215d3924a48df96b8c90ede6e3fed": {
      "model_module": "@jupyter-widgets/controls",
      "model_module_version": "2.0.0",
      "model_name": "DescriptionStyleModel",
      "state": {
       "_view_name": "ErrorWidgetView",
       "description_width": "initial",
       "error": {},
       "msg": "Failed to load model class 'DescriptionStyleModel' from module '@jupyter-widgets/controls'"
      }
     },
     "3a8b2eb3bf8f4a7a9a3ae7782a25d480": {
      "model_module": "@jupyter-widgets/base",
      "model_module_version": "2.0.0",
      "model_name": "LayoutModel",
      "state": {
       "height": "30px",
       "width": "500px"
      }
     },
     "4440e0be43ff4e6c8ce574c9c769c262": {
      "model_module": "@jupyter-widgets/base",
      "model_module_version": "2.0.0",
      "model_name": "LayoutModel",
      "state": {
       "_view_name": "ErrorWidgetView",
       "error": {},
       "msg": "Failed to load model class 'LayoutModel' from module '@jupyter-widgets/base'"
      }
     },
     "4d30e83919e74bdaafe4f6d534dff721": {
      "model_module": "@jupyter-widgets/base",
      "model_module_version": "2.0.0",
      "model_name": "LayoutModel",
      "state": {
       "_view_name": "ErrorWidgetView",
       "error": {},
       "height": "30px",
       "msg": "Failed to load model class 'LayoutModel' from module '@jupyter-widgets/base'",
       "width": "500px"
      }
     },
     "51edf0e360fe4a6eb84fa6714ffd3a53": {
      "model_module": "@jupyter-widgets/controls",
      "model_module_version": "2.0.0",
      "model_name": "DropdownModel",
      "state": {
       "_options_labels": [
        "Pressure",
        "Intensity"
       ],
       "_view_name": "ErrorWidgetView",
       "description": "Plot Type",
       "error": {},
       "index": 1,
       "layout": "IPY_MODEL_e3a11d2af9e44c9d94a938dd7f961d5f",
       "msg": "Failed to load model class 'DropdownModel' from module '@jupyter-widgets/controls'",
       "style": "IPY_MODEL_eb955b78a70d4c30aa5547f9eb2c0584"
      }
     },
     "5d8fc6f878464f9290fbc197eb252915": {
      "model_module": "@jupyter-widgets/controls",
      "model_module_version": "2.0.0",
      "model_name": "FloatSliderModel",
      "state": {
       "_view_name": "ErrorWidgetView",
       "description": "Frequency (Hz)",
       "error": {},
       "layout": "IPY_MODEL_4d30e83919e74bdaafe4f6d534dff721",
       "max": 1800,
       "min": 600,
       "msg": "Failed to load model class 'FloatSliderModel' from module '@jupyter-widgets/controls'",
       "step": 5,
       "style": "IPY_MODEL_30e96f6c767d49a68d86be1ff961a8d4",
       "value": 1200
      }
     },
     "5e57de970648499b94f2e624f46fdb6d": {
      "model_module": "@jupyter-widgets/base",
      "model_module_version": "2.0.0",
      "model_name": "LayoutModel",
      "state": {}
     },
     "5ec823b723b143e2b4828d0bf5f05fc4": {
      "model_module": "@jupyter-widgets/controls",
      "model_module_version": "2.0.0",
      "model_name": "VBoxModel",
      "state": {
       "_dom_classes": [
        "widget-interact"
       ],
       "_view_name": "ErrorWidgetView",
       "children": [
        "IPY_MODEL_eba38066cb2c4b16bf412fc9401e38f9",
        "IPY_MODEL_a882af3fe833401a938ed300e5431ed3",
        "IPY_MODEL_5d8fc6f878464f9290fbc197eb252915",
        "IPY_MODEL_d2e0e5d9f9f44f4a8793c0593ffe44fd",
        "IPY_MODEL_8902924a6fda4aaeb50f033e5f43bb2a"
       ],
       "error": {},
       "layout": "IPY_MODEL_03600bea66994ba78fc4ea60dba2e6a7",
       "msg": "Failed to load model class 'VBoxModel' from module '@jupyter-widgets/controls'"
      }
     },
     "66ab145856ed487f9efe6961fdf34dd4": {
      "model_module": "@jupyter-widgets/controls",
      "model_module_version": "2.0.0",
      "model_name": "FloatSliderModel",
      "state": {
       "_view_name": "ErrorWidgetView",
       "behavior": "drag-tap",
       "description": "Frequency (Hz)",
       "error": {},
       "layout": "IPY_MODEL_e3a11d2af9e44c9d94a938dd7f961d5f",
       "max": 1800,
       "min": 600,
       "msg": "Failed to load model class 'FloatSliderModel' from module '@jupyter-widgets/controls'",
       "step": 5,
       "style": "IPY_MODEL_7a6f9433b9fd49aea9399a6835650fcc",
       "value": 1200
      }
     },
     "6af430c8a44d418485b8c20373436dc2": {
      "model_module": "@jupyter-widgets/output",
      "model_module_version": "1.0.0",
      "model_name": "OutputModel",
      "state": {
       "layout": "IPY_MODEL_c3264ea33cf94dd6bcdb4defed353ff9",
       "outputs": [
        {
         "data": {
          "image/png": "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",
          "text/plain": "<Figure size 800x600 with 2 Axes>"
         },
         "metadata": {},
         "output_type": "display_data"
        }
       ]
      }
     },
     "71074b9de90843ff9c28d1ad7eeb8686": {
      "model_module": "@jupyter-widgets/controls",
      "model_module_version": "2.0.0",
      "model_name": "SliderStyleModel",
      "state": {
       "description_width": "initial"
      }
     },
     "7a6f9433b9fd49aea9399a6835650fcc": {
      "model_module": "@jupyter-widgets/controls",
      "model_module_version": "2.0.0",
      "model_name": "SliderStyleModel",
      "state": {
       "_view_name": "ErrorWidgetView",
       "description_width": "initial",
       "error": {},
       "msg": "Failed to load model class 'SliderStyleModel' from module '@jupyter-widgets/controls'"
      }
     },
     "7f3909768b164c2aaf5603c2e9c1d030": {
      "model_module": "@jupyter-widgets/controls",
      "model_module_version": "2.0.0",
      "model_name": "SliderStyleModel",
      "state": {
       "description_width": "initial"
      }
     },
     "88fadc99e7e74f8c95d3c5d96b22d4a9": {
      "model_module": "@jupyter-widgets/base",
      "model_module_version": "2.0.0",
      "model_name": "LayoutModel",
      "state": {
       "_view_name": "ErrorWidgetView",
       "error": {},
       "msg": "Failed to load model class 'LayoutModel' from module '@jupyter-widgets/base'"
      }
     },
     "9641ab9e1d104bbc8ae2beb4a6129287": {
      "model_module": "@jupyter-widgets/controls",
      "model_module_version": "2.0.0",
      "model_name": "DescriptionStyleModel",
      "state": {
       "_view_name": "ErrorWidgetView",
       "description_width": "initial",
       "error": {},
       "msg": "Failed to load model class 'DescriptionStyleModel' from module '@jupyter-widgets/controls'"
      }
     },
     "9d7c7d7318804728b19c0b0d9f7805b8": {
      "model_module": "@jupyter-widgets/controls",
      "model_module_version": "2.0.0",
      "model_name": "DropdownModel",
      "state": {
       "_options_labels": [
        "On",
        "Off"
       ],
       "description": "Source 2",
       "index": 0,
       "layout": "IPY_MODEL_3a8b2eb3bf8f4a7a9a3ae7782a25d480",
       "style": "IPY_MODEL_b537f2ee0ef34349a5e835a296d092cd"
      }
     },
     "a882af3fe833401a938ed300e5431ed3": {
      "model_module": "@jupyter-widgets/controls",
      "model_module_version": "2.0.0",
      "model_name": "DropdownModel",
      "state": {
       "_options_labels": [
        "Pressure",
        "Intensity"
       ],
       "_view_name": "ErrorWidgetView",
       "description": "Plot Type",
       "error": {},
       "index": 1,
       "layout": "IPY_MODEL_4d30e83919e74bdaafe4f6d534dff721",
       "msg": "Failed to load model class 'DropdownModel' from module '@jupyter-widgets/controls'",
       "style": "IPY_MODEL_39b215d3924a48df96b8c90ede6e3fed"
      }
     },
     "ae88cbebd9cf4b459229f7016e17ac53": {
      "model_module": "@jupyter-widgets/controls",
      "model_module_version": "2.0.0",
      "model_name": "SliderStyleModel",
      "state": {
       "_view_name": "ErrorWidgetView",
       "description_width": "initial",
       "error": {},
       "msg": "Failed to load model class 'SliderStyleModel' from module '@jupyter-widgets/controls'"
      }
     },
     "b39d72c5d6d94e639a065147ff23ecf7": {
      "model_module": "@jupyter-widgets/controls",
      "model_module_version": "2.0.0",
      "model_name": "DescriptionStyleModel",
      "state": {
       "_view_name": "ErrorWidgetView",
       "description_width": "initial",
       "error": {},
       "msg": "Failed to load model class 'DescriptionStyleModel' from module '@jupyter-widgets/controls'"
      }
     },
     "b536d7e87e6a4b0c8de9cc9330a239a5": {
      "model_module": "@jupyter-widgets/controls",
      "model_module_version": "2.0.0",
      "model_name": "FloatSliderModel",
      "state": {
       "behavior": "drag-tap",
       "description": "Distance Apart (m)",
       "layout": "IPY_MODEL_3a8b2eb3bf8f4a7a9a3ae7782a25d480",
       "max": 20,
       "step": 0.1,
       "style": "IPY_MODEL_7f3909768b164c2aaf5603c2e9c1d030",
       "value": 5.5
      }
     },
     "b537f2ee0ef34349a5e835a296d092cd": {
      "model_module": "@jupyter-widgets/controls",
      "model_module_version": "2.0.0",
      "model_name": "DescriptionStyleModel",
      "state": {
       "description_width": "initial"
      }
     },
     "ba526011891b4c619cceeeaa81e1f384": {
      "model_module": "@jupyter-widgets/controls",
      "model_module_version": "2.0.0",
      "model_name": "DropdownModel",
      "state": {
       "_options_labels": [
        "On",
        "Off"
       ],
       "_view_name": "ErrorWidgetView",
       "description": "Source 2",
       "error": {},
       "index": 0,
       "layout": "IPY_MODEL_e3a11d2af9e44c9d94a938dd7f961d5f",
       "msg": "Failed to load model class 'DropdownModel' from module '@jupyter-widgets/controls'",
       "style": "IPY_MODEL_b39d72c5d6d94e639a065147ff23ecf7"
      }
     },
     "c3264ea33cf94dd6bcdb4defed353ff9": {
      "model_module": "@jupyter-widgets/base",
      "model_module_version": "2.0.0",
      "model_name": "LayoutModel",
      "state": {}
     },
     "ca37253d933c4cb49920a363d1ab5f0d": {
      "model_module": "@jupyter-widgets/controls",
      "model_module_version": "2.0.0",
      "model_name": "DescriptionStyleModel",
      "state": {
       "description_width": "initial"
      }
     },
     "d168cb39e0094d9fbd59c02645d66d64": {
      "model_module": "@jupyter-widgets/controls",
      "model_module_version": "2.0.0",
      "model_name": "FloatSliderModel",
      "state": {
       "_view_name": "ErrorWidgetView",
       "behavior": "drag-tap",
       "description": "Distance Apart (m)",
       "error": {},
       "layout": "IPY_MODEL_e3a11d2af9e44c9d94a938dd7f961d5f",
       "max": 20,
       "msg": "Failed to load model class 'FloatSliderModel' from module '@jupyter-widgets/controls'",
       "step": 0.1,
       "style": "IPY_MODEL_d26cbbc29b5844aa841e755ab3927e26",
       "value": 5.5
      }
     },
     "d26cbbc29b5844aa841e755ab3927e26": {
      "model_module": "@jupyter-widgets/controls",
      "model_module_version": "2.0.0",
      "model_name": "SliderStyleModel",
      "state": {
       "_view_name": "ErrorWidgetView",
       "description_width": "initial",
       "error": {},
       "msg": "Failed to load model class 'SliderStyleModel' from module '@jupyter-widgets/controls'"
      }
     },
     "d2e0e5d9f9f44f4a8793c0593ffe44fd": {
      "model_module": "@jupyter-widgets/controls",
      "model_module_version": "2.0.0",
      "model_name": "FloatSliderModel",
      "state": {
       "_view_name": "ErrorWidgetView",
       "description": "Distance Apart (m)",
       "error": {},
       "layout": "IPY_MODEL_4d30e83919e74bdaafe4f6d534dff721",
       "max": 20,
       "msg": "Failed to load model class 'FloatSliderModel' from module '@jupyter-widgets/controls'",
       "step": 0.1,
       "style": "IPY_MODEL_ae88cbebd9cf4b459229f7016e17ac53",
       "value": 5.5
      }
     },
     "d7e1c02c1746467c8a2f7cce05b55319": {
      "model_module": "@jupyter-widgets/base",
      "model_module_version": "2.0.0",
      "model_name": "LayoutModel",
      "state": {
       "_view_name": "ErrorWidgetView",
       "error": {},
       "msg": "Failed to load model class 'LayoutModel' from module '@jupyter-widgets/base'"
      }
     },
     "e3a11d2af9e44c9d94a938dd7f961d5f": {
      "model_module": "@jupyter-widgets/base",
      "model_module_version": "2.0.0",
      "model_name": "LayoutModel",
      "state": {
       "_view_name": "ErrorWidgetView",
       "error": {},
       "height": "30px",
       "msg": "Failed to load model class 'LayoutModel' from module '@jupyter-widgets/base'",
       "width": "500px"
      }
     },
     "eb955b78a70d4c30aa5547f9eb2c0584": {
      "model_module": "@jupyter-widgets/controls",
      "model_module_version": "2.0.0",
      "model_name": "DescriptionStyleModel",
      "state": {
       "_view_name": "ErrorWidgetView",
       "description_width": "initial",
       "error": {},
       "msg": "Failed to load model class 'DescriptionStyleModel' from module '@jupyter-widgets/controls'"
      }
     },
     "eba38066cb2c4b16bf412fc9401e38f9": {
      "model_module": "@jupyter-widgets/controls",
      "model_module_version": "2.0.0",
      "model_name": "DropdownModel",
      "state": {
       "_options_labels": [
        "On",
        "Off"
       ],
       "_view_name": "ErrorWidgetView",
       "description": "Source 2",
       "error": {},
       "index": 0,
       "layout": "IPY_MODEL_4d30e83919e74bdaafe4f6d534dff721",
       "msg": "Failed to load model class 'DropdownModel' from module '@jupyter-widgets/controls'",
       "style": "IPY_MODEL_9641ab9e1d104bbc8ae2beb4a6129287"
      }
     },
     "fa1391f8f9e240748800c9215738c420": {
      "model_module": "@jupyter-widgets/controls",
      "model_module_version": "2.0.0",
      "model_name": "FloatSliderModel",
      "state": {
       "behavior": "drag-tap",
       "description": "Frequency (Hz)",
       "layout": "IPY_MODEL_3a8b2eb3bf8f4a7a9a3ae7782a25d480",
       "max": 1800,
       "min": 600,
       "step": 5,
       "style": "IPY_MODEL_71074b9de90843ff9c28d1ad7eeb8686",
       "value": 1200
      }
     }
    },
    "version_major": 2,
    "version_minor": 0
   }
  }
 },
 "nbformat": 4,
 "nbformat_minor": 4
}
