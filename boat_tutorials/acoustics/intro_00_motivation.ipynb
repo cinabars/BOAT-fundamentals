{
 "cells": [
  {
   "cell_type": "markdown",
   "id": "f4efcad2-bf67-4647-8d0b-50f64708eae9",
   "metadata": {
    "editable": true,
    "slideshow": {
     "slide_type": ""
    },
    "tags": []
   },
   "source": [
    "(acoustics-intro)=\n",
    "# Overall framework"
   ]
  },
  {
   "cell_type": "markdown",
   "id": "af409f1c-c4c9-4c53-bc0d-4d50c9820292",
   "metadata": {
    "editable": true,
    "slideshow": {
     "slide_type": ""
    },
    "tags": []
   },
   "source": [
    "In this tutorial, we will develop a solid understanding of how to breakdown an ocean acoustics problem into distinct components that can each be analyzed separately. This \"systems\" approach provides a structured framework that will help us gain a holistic picture of the problem."
   ]
  },
  {
   "cell_type": "markdown",
   "id": "e9637812-b44a-476a-ac50-da98cade152a",
   "metadata": {
    "editable": true,
    "slideshow": {
     "slide_type": ""
    },
    "tags": []
   },
   "source": [
    "```{admonition} **Learning objectives**\n",
    ":class: tip\n",
    "Taking a systems approach to understanding ocean acoustics problems, our goals are to be able to:\n",
    "1. Identify key components of the **system** underlying the problem\n",
    "2. Analyze the relationships of different components within the system\n",
    "3. Differentiate known and unknown components\n",
    "4. Assess what can be realistically achieved when characterizing the unknowns\n",
    "5. Recognize potential caveats in the measurement, inference, or estimation processes\n",
    "```"
   ]
  },
  {
   "cell_type": "markdown",
   "id": "62685a32-1451-4412-a86c-03d76f402850",
   "metadata": {
    "editable": true,
    "slideshow": {
     "slide_type": ""
    },
    "tags": []
   },
   "source": [
    "(acoustics-intro_motivation)=\n",
    "## Motivating example: The acoustic lives of the orcas\n",
    "\n",
    "<!-- Description of scenarios without using the sonar equation first -->\n",
    "\n",
    "Let's start with a general overview of ocean acoustics problems with a motivating example.\n",
    "For both fun and to highlight the interdisciplinary nature of ocean acoustics, we will use the lives of orcas, or or killer whales (_Orcinus orca_), to guide our exploration.\n",
    "Through this example, you will see how the physics of sound, the biology of whales and fish, the ocean environments, and scientific instruments all play a role in this problem."
   ]
  },
  {
   "cell_type": "markdown",
   "id": "5ec3d80c-e697-4c8f-8270-b9a4e8b4ce05",
   "metadata": {
    "editable": true,
    "slideshow": {
     "slide_type": ""
    },
    "tags": []
   },
   "source": [
    "### How and when do orcas use sound?\n",
    "Killer whales are toothed whales (odontocetes) that use sound to communicate with each other and find food in the ocean. There are two types of killer whales living on the west coast of the north American continent: the [\"resident\" and the \"transient\"](https://en.wikipedia.org/wiki/Orca_types_and_populations) killer whales.\n",
    "\n",
    "Resident killer whales typically hang out in coastal waters and primary feed on fish, such as salmon. Since many fish don't make sound, whales produce impulsive and directional sounds (the \"clicks\") and use the returning echoes to find, track, and catch the fish. This is a special sensing modality called \"echolocation,\" which is also used by all toothed whales and most bats. \n",
    "\n",
    "<!-- ADD CLICK EXAMPLE -->\n",
    "\n",
    "<!-- In this case, these fish species don't hear sounds produced by the killer whales because that is beyond their hearing range. However, note that this is not always true, as there are fish species with specialized high frequency hearing capability that can hear sounds above 20 kHz (which is considered \"ultrasonic\" for humans). -->\n",
    "\n",
    "Transient killer whales, on the other hand, rely on both listening and echolocation to hunt marine mammals, such as seals. Since seals use sound to communicate and hear well underwater, transient killer whales eavesdrop on seal vocalizations to detect and localize them, then switch to intensive echolocation clicks during active pursuits.\n",
    "\n",
    "Both resident and transient killer whales use a rich repertoire of sounds to communicate. Research has shown that killer whales in matrilineal groups centered around related females (the \"pods\") have [distinct call patterns](https://orca.research.sfu.ca/call-library). This allows us to acoustically infer their group identity, which is really useful in studying these fully aquatic mammals."
   ]
  },
  {
   "cell_type": "markdown",
   "id": "cdef75e6-8adb-4f9b-9f21-21935767391b",
   "metadata": {
    "editable": true,
    "slideshow": {
     "slide_type": ""
    },
    "tags": []
   },
   "source": [
    "### How do we use ocean acoustics techniques to study orca?\n",
    "Given killer whales' extensive use of sound in communication and foraging, we can leverage hydrophones to detect their presence, identify the groups, and infer their activities (e.g., feeding or socializing). As each hydrophone has a limited effective listening range, we can use a network of hydropohones to monitor whales over a larger special area. This is precisely what [Orcasound](https://www.orcasound.net/) is doing in the northeast Pacific Ocean. \n",
    "\n",
    "<!-- EMBED SPECTROGRAM EXAMPLE WITH SOUND\n",
    "LINK TO SPECTRAL ANALYSIS PAGE -->\n",
    "<!-- One can also use multiple closely spaced hydrophones to accurately localize the whales. -->\n",
    "\n",
    "Scientists attach small electronic \"tags\" equipped with hydrophones and other sensors to whales. These tags record the sounds whales produce and hear, alongside their movements, offering a perspective from the whale's point of view. \n",
    "\n",
    "<!-- For example, an [echogram](REF) like below visually depicts what the whale may be hearing in the echoes when closing in on a prey item. -->\n",
    "<!-- ADD CLICK ECHOGRAM -->\n",
    "\n",
    "Knowing all the above, we can start to ask questions like:\n",
    "- How far can killer whales hear each other? How far can we detect them using hydrophones? Does this distance change depending on the type of sound whales emit?\n",
    "- How do whales identify different fish species through echolocation? How do echoes change with fish size or when there are multiple fish?\n",
    "- What makes a good hydrophone to detect the whales? What key characteristics should we consider?\n",
    "\n",
    "Next, we will introduce the mighty \"SONAR equation\" to help us answer these questions.\n",
    "\n",
    "\n",
    "<!-- \n",
    "- other examples\n",
    "    - blue whales communicate across ocean basin\n",
    "    - humpback whales cultural transmission of call units\n",
    " -->\n",
    "\n",
    "<!-- \n",
    "- How far can killer whales hear each other? How far can we detect them using hydrophones? Does this distance change depending on the type of sound whales emit?\n",
    "- How do whales identify different fish species through echolocation? How do echoes change with fish size or when there are multiple fish?\n",
    "- What makes a good hydrophone to detect the whales? What key characteristics should we consider?\n",
    "-->"
   ]
  },
  {
   "cell_type": "code",
   "execution_count": null,
   "id": "7a12cf06-1139-4b3b-a777-f8399f760976",
   "metadata": {
    "editable": true,
    "slideshow": {
     "slide_type": ""
    },
    "tags": []
   },
   "outputs": [],
   "source": []
  }
 ],
 "metadata": {
  "kernelspec": {
   "display_name": "Python 3 (ipykernel)",
   "language": "python",
   "name": "python3"
  },
  "language_info": {
   "codemirror_mode": {
    "name": "ipython",
    "version": 3
   },
   "file_extension": ".py",
   "mimetype": "text/x-python",
   "name": "python",
   "nbconvert_exporter": "python",
   "pygments_lexer": "ipython3",
   "version": "3.12.9"
  },
  "widgets": {
   "application/vnd.jupyter.widget-state+json": {
    "state": {},
    "version_major": 2,
    "version_minor": 0
   }
  }
 },
 "nbformat": 4,
 "nbformat_minor": 5
}
