{
 "cells": [
  {
   "cell_type": "markdown",
   "metadata": {
    "editable": true,
    "slideshow": {
     "slide_type": ""
    },
    "tags": []
   },
   "source": [
    "(acoustics-intro_widgets)=\n",
    "# Applying the \"systems\" concepts via the SONAR equation"
   ]
  },
  {
   "cell_type": "markdown",
   "metadata": {
    "editable": true,
    "slideshow": {
     "slide_type": ""
    },
    "tags": []
   },
   "source": [
    "## Can Ola hear Oli or echoes from a fish?\n",
    "\n",
    "Let's put what we just learn to use! Below is an interactive \"widget\" that you can use to get an intuitive sense of how loud Oli's sound or fish echoes Ola may receive.\n",
    "\n",
    "In the widget below, you can tune the number of the SL, TL, and TS terms in the sonar equation, and observe how these terms affect the RL in the passive and active sensing scenarios.\n",
    "\n",
    "What do you find? Is it easy for Ola to detect a fish compared to try to listen to messages from Oli?"
   ]
  },
  {
   "cell_type": "code",
   "execution_count": 1,
   "metadata": {
    "editable": true,
    "jupyter": {
     "source_hidden": true
    },
    "slideshow": {
     "slide_type": ""
    },
    "tags": [
     "remove-input"
    ]
   },
   "outputs": [],
   "source": [
    "import ipywidgets as widgets"
   ]
  },
  {
   "cell_type": "code",
   "execution_count": 2,
   "metadata": {
    "editable": true,
    "jupyter": {
     "source_hidden": true
    },
    "slideshow": {
     "slide_type": ""
    },
    "tags": [
     "remove-input"
    ]
   },
   "outputs": [
    {
     "data": {
      "application/vnd.jupyter.widget-view+json": {
       "model_id": "7e0a5f78d92345a18d3df110c5314746",
       "version_major": 2,
       "version_minor": 0
      },
      "text/plain": [
       "interactive(children=(IntSlider(value=170, description='SL (dB)', layout=Layout(width='400px'), max=220, min=1…"
      ]
     },
     "metadata": {},
     "output_type": "display_data"
    }
   ],
   "source": [
    "def update_RL(SL, TL, TS):\n",
    "    RL_passive = SL - TL\n",
    "    RL_active = SL - 2*TL + TS\n",
    "    print(f\"Passive RL: {RL_passive} dB\")\n",
    "    print(f\"Active  RL: {RL_active} dB\")\n",
    "\n",
    "_ = widgets.interact(\n",
    "    update_RL,\n",
    "    SL=widgets.IntSlider(value=170, min=150, max=220, step=1, layout=widgets.Layout(width=\"400px\"), style={'description_width': 'initial'}, description=\"SL (dB)\"),\n",
    "    TL=widgets.IntSlider(value=50, min=40, max=60, step=1, layout=widgets.Layout(width=\"400px\"), style={'description_width': 'initial'}, description=\"TL (dB)\"),\n",
    "    TS=widgets.IntSlider(value=-40, min=-50, max=-30, step=1, layout=widgets.Layout(width=\"400px\"), style={'description_width': 'initial'}, description=\"TS (dB)\"),\n",
    ")"
   ]
  },
  {
   "cell_type": "markdown",
   "metadata": {
    "editable": true,
    "slideshow": {
     "slide_type": ""
    },
    "tags": []
   },
   "source": [
    "```{tip}\n",
    "Here, all the numbers are represented in **decibels**, or \"**dB**,\" which is a unitless, logarithmic measure widely used in ocean acoustics. We use the this measure in order to easily compare sound as loud as a jet taking off right outside of your window (~140 dB re 20 μPa) with sound as soft as dropping a needle on the floor (~15 dB re 20 μPa). Go to the [](primer-decibel) tutorial page to learn about this useful measure!\n",
    "```"
   ]
  },
  {
   "cell_type": "markdown",
   "metadata": {},
   "source": [
    "## Applying to our own research\n",
    "\n",
    "Having seen how the \"systems\" concepts can be applied to study the orcas via the SONAR equation, let's try to apply it to our own research in the exercise below."
   ]
  },
  {
   "cell_type": "markdown",
   "metadata": {
    "editable": true,
    "slideshow": {
     "slide_type": ""
    },
    "tags": []
   },
   "source": [
    ":::{admonition} Exercise\n",
    "If you have done or are thinking about doing research on an ocean acoustics-related topic, what is it? Think of one question you may want to answer or an application you may want to try, and try to see if you can figure out the following:\n",
    "- Put together a quick sketch of the \"system\" of your ocean acoustics problem\n",
    "- Identify the various terms in the SONAR equations in this sketch\n",
    "- Identify at least one component in the sketch or one term in the SONAR equation that you would like to learn more about from the tutorials\n",
    ":::"
   ]
  },
  {
   "cell_type": "code",
   "execution_count": null,
   "metadata": {},
   "outputs": [],
   "source": []
  }
 ],
 "metadata": {
  "kernelspec": {
   "display_name": "Python 3 (ipykernel)",
   "language": "python",
   "name": "python3"
  },
  "language_info": {
   "codemirror_mode": {
    "name": "ipython",
    "version": 3
   },
   "file_extension": ".py",
   "mimetype": "text/x-python",
   "name": "python",
   "nbconvert_exporter": "python",
   "pygments_lexer": "ipython3",
   "version": "3.12.9"
  },
  "widgets": {
   "application/vnd.jupyter.widget-state+json": {
    "state": {
     "0e988e64576e42ca8292cffd31dc384a": {
      "model_module": "@jupyter-widgets/base",
      "model_module_version": "2.0.0",
      "model_name": "LayoutModel",
      "state": {
       "width": "400px"
      }
     },
     "1ddc4c501a734a39afdb624df8a46d56": {
      "model_module": "@jupyter-widgets/controls",
      "model_module_version": "2.0.0",
      "model_name": "SliderStyleModel",
      "state": {
       "description_width": "initial"
      }
     },
     "7e0a5f78d92345a18d3df110c5314746": {
      "model_module": "@jupyter-widgets/controls",
      "model_module_version": "2.0.0",
      "model_name": "VBoxModel",
      "state": {
       "_dom_classes": [
        "widget-interact"
       ],
       "children": [
        "IPY_MODEL_e78a3ac62a7a4bf7b0e1e1ea068d6fc8",
        "IPY_MODEL_e1a4e6a630bc4187882bd0b436955973",
        "IPY_MODEL_ac21582c54d8420dabc56f7d1e8d669e",
        "IPY_MODEL_a44f9e376cd44250b73f0b927b8bdb55"
       ],
       "layout": "IPY_MODEL_ecfcb9f387124dba9922d4eb64c246b4"
      }
     },
     "95a7a4a1d107412386ae09ce5a78dfb2": {
      "model_module": "@jupyter-widgets/base",
      "model_module_version": "2.0.0",
      "model_name": "LayoutModel",
      "state": {}
     },
     "a44f9e376cd44250b73f0b927b8bdb55": {
      "model_module": "@jupyter-widgets/output",
      "model_module_version": "1.0.0",
      "model_name": "OutputModel",
      "state": {
       "layout": "IPY_MODEL_95a7a4a1d107412386ae09ce5a78dfb2",
       "outputs": [
        {
         "name": "stdout",
         "output_type": "stream",
         "text": "Passive RL: 120 dB\nActive  RL: 30 dB\n"
        }
       ]
      }
     },
     "a79e511afbfa4328888e5b4f4c3ea5c8": {
      "model_module": "@jupyter-widgets/base",
      "model_module_version": "2.0.0",
      "model_name": "LayoutModel",
      "state": {
       "width": "400px"
      }
     },
     "ac21582c54d8420dabc56f7d1e8d669e": {
      "model_module": "@jupyter-widgets/controls",
      "model_module_version": "2.0.0",
      "model_name": "IntSliderModel",
      "state": {
       "behavior": "drag-tap",
       "description": "TS (dB)",
       "layout": "IPY_MODEL_0e988e64576e42ca8292cffd31dc384a",
       "max": -30,
       "min": -50,
       "style": "IPY_MODEL_b633d27d618d40f98849da367446c9e8",
       "value": -40
      }
     },
     "b207a3101fc946ad9e4097e3cd08ac0a": {
      "model_module": "@jupyter-widgets/base",
      "model_module_version": "2.0.0",
      "model_name": "LayoutModel",
      "state": {
       "width": "400px"
      }
     },
     "b633d27d618d40f98849da367446c9e8": {
      "model_module": "@jupyter-widgets/controls",
      "model_module_version": "2.0.0",
      "model_name": "SliderStyleModel",
      "state": {
       "description_width": "initial"
      }
     },
     "cae0f82b9a5b4131868bc715a924b782": {
      "model_module": "@jupyter-widgets/controls",
      "model_module_version": "2.0.0",
      "model_name": "SliderStyleModel",
      "state": {
       "description_width": "initial"
      }
     },
     "e1a4e6a630bc4187882bd0b436955973": {
      "model_module": "@jupyter-widgets/controls",
      "model_module_version": "2.0.0",
      "model_name": "IntSliderModel",
      "state": {
       "behavior": "drag-tap",
       "description": "TL (dB)",
       "layout": "IPY_MODEL_b207a3101fc946ad9e4097e3cd08ac0a",
       "max": 60,
       "min": 40,
       "style": "IPY_MODEL_1ddc4c501a734a39afdb624df8a46d56",
       "value": 50
      }
     },
     "e78a3ac62a7a4bf7b0e1e1ea068d6fc8": {
      "model_module": "@jupyter-widgets/controls",
      "model_module_version": "2.0.0",
      "model_name": "IntSliderModel",
      "state": {
       "behavior": "drag-tap",
       "description": "SL (dB)",
       "layout": "IPY_MODEL_a79e511afbfa4328888e5b4f4c3ea5c8",
       "max": 220,
       "min": 150,
       "style": "IPY_MODEL_cae0f82b9a5b4131868bc715a924b782",
       "value": 170
      }
     },
     "ecfcb9f387124dba9922d4eb64c246b4": {
      "model_module": "@jupyter-widgets/base",
      "model_module_version": "2.0.0",
      "model_name": "LayoutModel",
      "state": {}
     }
    },
    "version_major": 2,
    "version_minor": 0
   }
  }
 },
 "nbformat": 4,
 "nbformat_minor": 4
}
