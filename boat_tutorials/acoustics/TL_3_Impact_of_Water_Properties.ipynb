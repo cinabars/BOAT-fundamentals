{
 "cells": [
  {
   "cell_type": "markdown",
   "metadata": {},
   "source": [
    "# Impact of water properties on propagation\n",
    "\n",
    "(acoustics_refraction)=\n",
    "## Refraction due to changes in sound speed\n",
    "\n",
    "The speed with which sound travels through the ocean, the **sound speed**, depends on a number of properties of the seawater, with the temperature, salinity (salt content), and ambient pressure being the primary ones. These properties vary with both position and time in the ocean. In the summer, the water near the sea surface can be warmer than the deeper water. The ambient pressure increases the deeper you go in the ocean due to the weight of the water pushing down from the above. Fresh water flowing into the ocean from a river decreases the salinity near the river mouth. Each of these changes in the water properties leads to a change in the sound speed: the warm, near-surface water has a faster sound speed than the colder, deeper water, the sound speed increases as the ambient pressure increases with depth, and the fresher, river water decreases the speed of sound at the mouth of the river. All of these variations in properties compete with one another to increase or decrease the sound speed creating a complex acoustic environment.\n",
    "\n",
    "While understanding how the sound speed depends on the changing oceanography is obviously important for predicting and understanding ocean acoustics, we need to first understand the consequences of the changing sound speed on the propagation of the sound. The speed of sound, $c$, is defined as the distance, $d$, that the sound travels divided by the time, $t$, it takes to travel that distance, or $c = d/t$. In water where the sound speed is the same value everywhere, also called **isovelocity**, the sound will travel at in straight lines as was the case in the two point source example.\n",
    "\n",
    "When the sound speed depends on depth or horizontal position, instead of traveling in a straight line, it will instead **refract**, or bend away, from areas of high sound speed towards areas with low sound speed. To understand why this happens, consider the sound speed profile in the left panel in the image below. Here we have something similar to the summer warming effect we menitioned above, where the sound speed is high at the surface and then decreases linearly as you go deeper. Consider what would happen to a plane wave traveling in the horizontal direction.  At the initial instance of time, $t_0$, the wavefront is vertical and corresponds to the line labeled $t_0$ on the right hand side of the image. As we noted before, the sound always travels in the direction perpendicular to the wavefront. So for a small increment of time, the sound will travel in the horizontal direction and this is indicated by the horizontal arrows between $t_0$ and the next instance, $t_1$. However, since the sound speed decreases with depth, the sound at shallow depths (near the sea surface) will travel further than the sound at deeper depths. This difference in distance in represented by the differences in length of the arrows. The new wavefront at $t_1$ is now tilted forward. Since the sound always propagates in the direction perpendicular to the wavefront, the sound will now travel in a slightly downward direction. As time progresses, this happens again and again with the sound gradually moving away from the higher sound speeds. This illustration has exaggerated the length of the arrows. In actually the time increments would be infinitesimally small and the sound would follow a smooth curve away from the high sound speeds.\n",
    "\n",
    "```{image} ../images/Refraction_illustration.png\n",
    ":alt: Refraction_illustration\n",
    ":width: 500px\n",
    ":align: center\n",
    "```\n",
    "\n",
    "If the sound speed increased again at even deeper depths, the sound would again refract up and away from the deeper high sound speed regions. This is what happens to sound in the deep ocean and partially explains why whales can communicate with one another over vast distances. In the left plot below, the representative sound speed profile from the Pacific Ocean is shown as a function of depth. Near the surface and very deep the sound speed is high while towards the middle of the water column, the sound speed is low and has a minimum at about 1000 m. In left image, the path of the sound from a source located at a depth of 300 m is shown. The process of refraction from from the near surface and deep waters effectively traps the sound, preventing it from interacting with the sea surface or seafloor. This is kind of situation is called an acoustic duct or channel and this particular, deep water duct is known as the **SOFAR (Sound Fixing and Ranging) channel.** This channel can carry sound across an entire ocean and has been used by marine mammals and Navies for communication and echolocation over great distances.\n",
    "\n",
    "```{image} ../images/Deep_water_propagation_example.png\n",
    ":alt: Deep water propagation example\n",
    ":width: 500px\n",
    ":align: center\n",
    "```"
   ]
  },
  {
   "cell_type": "markdown",
   "metadata": {},
   "source": [
    "(acoustics-water_absorption)=\n",
    "## Absorption loss\n",
    "\n",
    "While sound can be trapped in the SOFAR travel, limiting interactions with the sea surface and seafloor (which can lead to significant loss as discussed in [reflection from the seafloor and sea surface]((acoustics-seafloor_reflection))), the range at which sound can propagate depends also on the frequency of that sound. As the sound waves compress and expand the water, some of the energy used in the motion is converted to heat or lost to chemical reactions that take place within the water. Developing an understanding of the mechanisms behind these processes can be quite involved and will be left to future notebook. Here we will simply mention the processes and look at how they impact the propagation of sound.\n",
    "\n",
    "All fluids have viscosity, which is the fluid's resistance to flow. Molasses is the classic example of a highly viscous fluid, as is syrup. Water has a relatively low viscosity, but during the compression and expansion of the fluid in an acoustic wave, this viscous resistance leads to the loss of energy into heat. In freshwater, this is the only loss mechanism that occurs and is proportional to the square of the sound's frequency. \n",
    "\n",
    "In seawater, there are other chemicals present, the most prominent of which are dissolved salts. Among these salts, magnesium sulfate undergoes a chemical reaction due to the change of acoustic pressure which removes energy from the acoustic wave. This leads to an increase in the absorption, the onset of which occurs between 10 and 200 kHz and depends on both the temperature and acidity of the water. A second chemical reaction involving boric acid occurs at lower frequencies and also increases the absorption over that of freshwater.\n",
    "\n",
    "Below is widget that will calculate the absorption coefficient in dB/m versus frequency for freshwater and seawater. In this widget, you can change both the temperature and the pressure. Notice that increasing either the temperature or the pressure leads to a decrease in the loss. "
   ]
  },
  {
   "cell_type": "code",
   "execution_count": 2,
   "metadata": {
    "tags": [
     "hide-input"
    ]
   },
   "outputs": [],
   "source": [
    "# Import packages\n",
    "import numpy as np\n",
    "import matplotlib.pyplot as plt\n",
    "import ipywidgets as widgets\n",
    "from ipywidgets import interact\n",
    "import pandas as pd\n",
    "\n",
    "# Set inline\n",
    "%matplotlib inline"
   ]
  },
  {
   "cell_type": "code",
   "execution_count": 3,
   "metadata": {
    "tags": [
     "hide-input"
    ]
   },
   "outputs": [],
   "source": [
    "def Absorption(frequency, T_C, P_atm, Water_Type):\n",
    "    \"\"\"\n",
    "    Returns absorption (dB/m) of freshwater or seawater of salinity ~35 ppt, given the following inputs:\n",
    "\n",
    "    frequency = frequency (Hz)\n",
    "    T_C = temperature (°C) valid range: 0 <= T_C <= 30\n",
    "    P_atm = hydrostatic pressure (atm) valid range: 1 <= P_atm <= 400\n",
    "    Water_Type = \"Freshwater\" or \"Seawater\"\n",
    "\n",
    "    Source: Kinsler, Frey, Coppens, and Sanders. Fundamentals of \n",
    "    Acoustics, 3rd Ed.  Pages 158 through 160.  Model reprinted from\n",
    "    Fisher and Simmons.  J. Acoust. Soc. Am 62, 558, 1977. \n",
    "    \"\"\"\n",
    "\n",
    "    f1 = 1320 * (T_C + 273.15) * np.exp(-1700 / (T_C + 273.15))\n",
    "    f2 = (1.55e+7) * (T_C + 273.15) * np.exp(-3052 / (T_C + 273.15))\n",
    "\n",
    "    A = 8.95e-8 * (1 + 0.023 * T_C - 5.1e-4 * T_C**2)\n",
    "    B = 4.88e-7 * (1 + 0.013 * T_C) * (1 - 0.09e-3 * P_atm)\n",
    "    C = 4.76e-13 * (1 - 0.04 * T_C + 5.9e-4 * T_C**2) * (1 - 3.8e-4 * P_atm)\n",
    "\n",
    "    if Water_Type == \"Freshwater\":\n",
    "\n",
    "        a = C * frequency**2\n",
    "\n",
    "    else:\n",
    "\n",
    "        a = (A * f1 * frequency**2) / (f1**2 + frequency**2) + (B * f2 * frequency**2) / (f2**2 + frequency**2) + C * frequency**2\n",
    "\n",
    "    return a\n"
   ]
  },
  {
   "cell_type": "code",
   "execution_count": 4,
   "metadata": {
    "tags": [
     "hide-input"
    ]
   },
   "outputs": [
    {
     "data": {
      "application/vnd.jupyter.widget-view+json": {
       "model_id": "99750300c2554298a48e6bce551eeade",
       "version_major": 2,
       "version_minor": 0
      },
      "text/plain": [
       "interactive(children=(FloatSlider(value=5.0, description='Temperature (°C)', max=30.0, step=0.5), FloatSlider(…"
      ]
     },
     "metadata": {},
     "output_type": "display_data"
    },
    {
     "data": {
      "text/plain": [
       "<function __main__.plot_absorption(T_C, P_atm)>"
      ]
     },
     "execution_count": 4,
     "metadata": {},
     "output_type": "execute_result"
    }
   ],
   "source": [
    "# Create sliders for 'T_C', 'P_atm'\n",
    "T_slider = widgets.FloatSlider(min=0, max=30, step=0.5, value=5, description='Temperature (°C)')\n",
    "P_slider = widgets.FloatSlider(min=1, max=400, step=0.5, value=1, description='Pressure (atm)')\n",
    "\n",
    "def plot_absorption(T_C, P_atm):\n",
    "    \"\"\"\n",
    "    # Function to plot absorption coefficient\n",
    "    \"\"\"\n",
    "\n",
    "    # Range of frequencies to plot\n",
    "    frequency_start = 100\n",
    "    frequency_end = 1100000\n",
    "    freq_range = 10**np.arange(np.log10(frequency_start), np.log10(frequency_end), 0.1)\n",
    "\n",
    "    # Function to generate absorption\n",
    "    absorp_Fresh = Absorption(freq_range, T_C, P_atm, \"Freshwater\")\n",
    "    absorp_Sea = Absorption(freq_range, T_C, P_atm, \"Seawater\")\n",
    "\n",
    "    # Close any existing plots\n",
    "    plt.close('all')\n",
    "\n",
    "    # Plotting\n",
    "    plt.figure(1)\n",
    "    plt.loglog(freq_range, absorp_Fresh, label='Freshwater', linewidth=2, color=\"b\")\n",
    "    plt.loglog(freq_range, absorp_Sea, label='Seawater', linewidth=2, color=\"r\")\n",
    "    plt.xlabel('Frequency (Hz)')\n",
    "    plt.ylabel('Absorption (dB/m)')\n",
    "    plt.legend()\n",
    "    plt.grid(True)\n",
    "    \n",
    "    plt.show\n",
    "\n",
    "    fresh_Values = Absorption(10**np.arange(2,7,2), T_C, P_atm, \"Freshwater\")\n",
    "    sea_Values = Absorption(10**np.arange(2,7,2), T_C, P_atm, \"Seawater\")\n",
    "\n",
    "    # Define labels and values\n",
    "    freqLabels = ['0.1 kHz', '10 kHz', '1000 kHz']\n",
    "    \n",
    "\n",
    "    # Create a DataFrame\n",
    "    df = pd.DataFrame({\n",
    "        'Frequency': freqLabels,\n",
    "        'Freshwater (dB/m)': fresh_Values,\n",
    "        'Seawater (dB/m)': sea_Values,\n",
    "    })\n",
    "\n",
    "    # Print the DataFrame\n",
    "    print(df)\n",
    "\n",
    "# Use interact to link widgets and plotting function\n",
    "interact(\n",
    "    plot_absorption,\n",
    "    T_C = T_slider,\n",
    "    P_atm = P_slider,\n",
    ")"
   ]
  },
  {
   "cell_type": "markdown",
   "metadata": {},
   "source": [
    "At 1000 kHz (1 MHz) for water at 5 degrees Celsius and 1 atm of pressure, the absorption in both freshwater and seawater is nearly 0.5 dB/m which means that the intensity is reduced by 10% after traveling one meter. For sound propagating in freshwater at 10 km, that same level of loss (10%) doesn't occur until the sound has traveled 4.3 km! For seawater, the sound only has to travel 1 km to experience the same level of reduction. \n",
    "\n",
    "Returning to the SOFAR channel, the absorption experienced when sound propagates in seawater means that high frequency sound won't travel very far no matter how well it is trapped in the channel. Due to the strong frequency dependence of the absorption, low frequency sound can travel long distances with much loss. A 100 Hz tone transmitted in the SOFAR channel can travel 2000 km before it losses 3 dB (a 50% reduction) to absorption."
   ]
  }
 ],
 "metadata": {
  "celltoolbar": "Tags",
  "kernelspec": {
   "display_name": "Python 3",
   "language": "python",
   "name": "python3"
  },
  "language_info": {
   "codemirror_mode": {
    "name": "ipython",
    "version": 3
   },
   "file_extension": ".py",
   "mimetype": "text/x-python",
   "name": "python",
   "nbconvert_exporter": "python",
   "pygments_lexer": "ipython3",
   "version": "3.8.3"
  },
  "widgets": {
   "application/vnd.jupyter.widget-state+json": {
    "state": {
     "09532d690f17412dad43e67e7acc83a4": {
      "model_module": "@jupyter-widgets/output",
      "model_module_version": "1.0.0",
      "model_name": "OutputModel",
      "state": {
       "layout": "IPY_MODEL_d5b3e4a319ed41f69fb5392c3e96a39f",
       "outputs": [
        {
         "name": "stdout",
         "output_type": "stream",
         "text": "  Frequency  Freshwater (dB/m)  Seawater (dB/m)\n0   0.1 kHz       3.876736e-09         0.000001\n1    10 kHz       3.876736e-05         0.000808\n2  1000 kHz       3.876736e-01         0.426008\n"
        },
        {
         "data": {
          "image/png": "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\n",
          "text/plain": "<Figure size 432x288 with 1 Axes>"
         },
         "metadata": {
          "needs_background": "light"
         },
         "output_type": "display_data"
        }
       ]
      }
     },
     "225547f792e54aff8ccab0a1d199db36": {
      "model_module": "@jupyter-widgets/base",
      "model_module_version": "1.2.0",
      "model_name": "LayoutModel",
      "state": {}
     },
     "240a075757b0476db278debe6ba81404": {
      "model_module": "@jupyter-widgets/controls",
      "model_module_version": "1.5.0",
      "model_name": "SliderStyleModel",
      "state": {
       "description_width": ""
      }
     },
     "24c7fad0ba9547ae8b99c3fa1f70bdab": {
      "model_module": "@jupyter-widgets/base",
      "model_module_version": "1.2.0",
      "model_name": "LayoutModel",
      "state": {}
     },
     "250c436d767240c9a1b33244545e4a81": {
      "model_module": "@jupyter-widgets/controls",
      "model_module_version": "1.5.0",
      "model_name": "FloatSliderModel",
      "state": {
       "description": "Pressure (atm)",
       "layout": "IPY_MODEL_cb20b7bf2271492892b858b3fb017add",
       "max": 400,
       "min": 1,
       "step": 0.5,
       "style": "IPY_MODEL_29ea8ec9d8db4ec6b886a9d02eeb0d34",
       "value": 1
      }
     },
     "29ea8ec9d8db4ec6b886a9d02eeb0d34": {
      "model_module": "@jupyter-widgets/controls",
      "model_module_version": "1.5.0",
      "model_name": "SliderStyleModel",
      "state": {
       "description_width": ""
      }
     },
     "369739612f6f4324a32b7546f9da46cf": {
      "model_module": "@jupyter-widgets/base",
      "model_module_version": "1.2.0",
      "model_name": "LayoutModel",
      "state": {}
     },
     "398ea11e921545fe8708a401fd0521d4": {
      "model_module": "@jupyter-widgets/base",
      "model_module_version": "1.2.0",
      "model_name": "LayoutModel",
      "state": {}
     },
     "4525ee3104c740eda525f654fc73c679": {
      "model_module": "@jupyter-widgets/controls",
      "model_module_version": "1.5.0",
      "model_name": "FloatSliderModel",
      "state": {
       "description": "Pressure (atm)",
       "layout": "IPY_MODEL_4fe07c509a154a54ab266714c04a81c8",
       "max": 400,
       "min": 1,
       "step": 0.5,
       "style": "IPY_MODEL_240a075757b0476db278debe6ba81404",
       "value": 1
      }
     },
     "4900f49d21884b68b0ca2fe51d1e15bb": {
      "model_module": "@jupyter-widgets/controls",
      "model_module_version": "1.5.0",
      "model_name": "SliderStyleModel",
      "state": {
       "description_width": ""
      }
     },
     "4a6c9c62f1b94c7687331e7c6ba560ff": {
      "model_module": "@jupyter-widgets/output",
      "model_module_version": "1.0.0",
      "model_name": "OutputModel",
      "state": {
       "layout": "IPY_MODEL_53f477e4aa4145ba8f7a7dec2db532c3",
       "outputs": [
        {
         "name": "stdout",
         "output_type": "stream",
         "text": "  Frequency  Freshwater (dB/m)  Seawater (dB/m)\n0   0.1 kHz       3.876736e-09         0.000001\n1    10 kHz       3.876736e-05         0.000808\n2  1000 kHz       3.876736e-01         0.426008\n"
        },
        {
         "data": {
          "image/png": "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\n",
          "text/plain": "<Figure size 432x288 with 1 Axes>"
         },
         "metadata": {
          "needs_background": "light"
         },
         "output_type": "display_data"
        }
       ]
      }
     },
     "4fe07c509a154a54ab266714c04a81c8": {
      "model_module": "@jupyter-widgets/base",
      "model_module_version": "1.2.0",
      "model_name": "LayoutModel",
      "state": {}
     },
     "5060c91b9c6f4fc2bf37a769c6a33709": {
      "model_module": "@jupyter-widgets/controls",
      "model_module_version": "1.5.0",
      "model_name": "SliderStyleModel",
      "state": {
       "description_width": ""
      }
     },
     "53f477e4aa4145ba8f7a7dec2db532c3": {
      "model_module": "@jupyter-widgets/base",
      "model_module_version": "1.2.0",
      "model_name": "LayoutModel",
      "state": {}
     },
     "55372256eb534a8984d9446cd333d716": {
      "model_module": "@jupyter-widgets/output",
      "model_module_version": "1.0.0",
      "model_name": "OutputModel",
      "state": {
       "layout": "IPY_MODEL_369739612f6f4324a32b7546f9da46cf",
       "outputs": [
        {
         "name": "stdout",
         "output_type": "stream",
         "text": "  Frequency  Freshwater (dB/m)  Seawater (dB/m)\n0   0.1 kHz       3.876736e-09         0.000001\n1    10 kHz       3.876736e-05         0.000808\n2  1000 kHz       3.876736e-01         0.426008\n"
        },
        {
         "data": {
          "image/png": "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\n",
          "text/plain": "<Figure size 432x288 with 1 Axes>"
         },
         "metadata": {
          "needs_background": "light"
         },
         "output_type": "display_data"
        }
       ]
      }
     },
     "55498ab980bc43d4a78906fb1fd5ba0b": {
      "model_module": "@jupyter-widgets/controls",
      "model_module_version": "1.5.0",
      "model_name": "SliderStyleModel",
      "state": {
       "description_width": ""
      }
     },
     "554afd845b79414cb9fcb15bcfb5e6ae": {
      "model_module": "@jupyter-widgets/controls",
      "model_module_version": "1.5.0",
      "model_name": "FloatSliderModel",
      "state": {
       "description": "Temperature (°C)",
       "layout": "IPY_MODEL_d84b50ed85ef4f958fd18b74b472d026",
       "max": 30,
       "step": 0.5,
       "style": "IPY_MODEL_4900f49d21884b68b0ca2fe51d1e15bb",
       "value": 5
      }
     },
     "5881ea644eaf4bac9816b5d0a425f460": {
      "model_module": "@jupyter-widgets/base",
      "model_module_version": "1.2.0",
      "model_name": "LayoutModel",
      "state": {}
     },
     "5a3a9f27c2e74740918346c3a309fa14": {
      "model_module": "@jupyter-widgets/controls",
      "model_module_version": "1.5.0",
      "model_name": "FloatSliderModel",
      "state": {
       "description": "Temperature (°C)",
       "layout": "IPY_MODEL_bf300a699fec4de18c5bc70bdc620795",
       "max": 30,
       "step": 0.5,
       "style": "IPY_MODEL_5a5ada83925b434abd466c5f48132711",
       "value": 5
      }
     },
     "5a5ada83925b434abd466c5f48132711": {
      "model_module": "@jupyter-widgets/controls",
      "model_module_version": "1.5.0",
      "model_name": "SliderStyleModel",
      "state": {
       "description_width": ""
      }
     },
     "5f566282ef4f400e83488295bb91f59a": {
      "model_module": "@jupyter-widgets/controls",
      "model_module_version": "1.5.0",
      "model_name": "SliderStyleModel",
      "state": {
       "description_width": ""
      }
     },
     "5fbd7b038ecd471bb920a229556d5278": {
      "model_module": "@jupyter-widgets/controls",
      "model_module_version": "1.5.0",
      "model_name": "VBoxModel",
      "state": {
       "_dom_classes": [
        "widget-interact"
       ],
       "children": [
        "IPY_MODEL_b36f52d39cee43a3866bed6aa4cd8871",
        "IPY_MODEL_250c436d767240c9a1b33244545e4a81",
        "IPY_MODEL_09532d690f17412dad43e67e7acc83a4"
       ],
       "layout": "IPY_MODEL_e29c9702cbeb47199bd22c0423e85af9"
      }
     },
     "612687e888ec4afa8b7ef5d30d44d716": {
      "model_module": "@jupyter-widgets/base",
      "model_module_version": "1.2.0",
      "model_name": "LayoutModel",
      "state": {}
     },
     "667cc68adc5c486380759ce032ea5f6d": {
      "model_module": "@jupyter-widgets/controls",
      "model_module_version": "1.5.0",
      "model_name": "FloatSliderModel",
      "state": {
       "description": "Pressure (atm)",
       "layout": "IPY_MODEL_24c7fad0ba9547ae8b99c3fa1f70bdab",
       "max": 400,
       "min": 1,
       "step": 0.5,
       "style": "IPY_MODEL_5f566282ef4f400e83488295bb91f59a",
       "value": 1
      }
     },
     "6c039fa0c2954466acadc940af31b01b": {
      "model_module": "@jupyter-widgets/base",
      "model_module_version": "1.2.0",
      "model_name": "LayoutModel",
      "state": {}
     },
     "75e13b27ad8b4d0885c59b4dde229605": {
      "model_module": "@jupyter-widgets/base",
      "model_module_version": "1.2.0",
      "model_name": "LayoutModel",
      "state": {}
     },
     "8795d5c6e4b44754bc16d1218f49c6a5": {
      "model_module": "@jupyter-widgets/controls",
      "model_module_version": "1.5.0",
      "model_name": "SliderStyleModel",
      "state": {
       "description_width": ""
      }
     },
     "94a66f1c40f44ed287745c34b24f1e89": {
      "model_module": "@jupyter-widgets/controls",
      "model_module_version": "1.5.0",
      "model_name": "VBoxModel",
      "state": {
       "_dom_classes": [
        "widget-interact"
       ],
       "children": [
        "IPY_MODEL_5a3a9f27c2e74740918346c3a309fa14",
        "IPY_MODEL_667cc68adc5c486380759ce032ea5f6d",
        "IPY_MODEL_55372256eb534a8984d9446cd333d716"
       ],
       "layout": "IPY_MODEL_398ea11e921545fe8708a401fd0521d4"
      }
     },
     "94c47c7006dd44cfbf3f6f13f3b96e85": {
      "model_module": "@jupyter-widgets/controls",
      "model_module_version": "1.5.0",
      "model_name": "VBoxModel",
      "state": {
       "_dom_classes": [
        "widget-interact"
       ],
       "children": [
        "IPY_MODEL_9baca0884fc648948054d1cd814e9449",
        "IPY_MODEL_b158b654b89d49f0bac723c985ab6eaf",
        "IPY_MODEL_4a6c9c62f1b94c7687331e7c6ba560ff"
       ],
       "layout": "IPY_MODEL_f6f5ec80bc1746b5bd9d3d7b5ee733f9"
      }
     },
     "99750300c2554298a48e6bce551eeade": {
      "model_module": "@jupyter-widgets/controls",
      "model_module_version": "1.5.0",
      "model_name": "VBoxModel",
      "state": {
       "_dom_classes": [
        "widget-interact"
       ],
       "children": [
        "IPY_MODEL_554afd845b79414cb9fcb15bcfb5e6ae",
        "IPY_MODEL_4525ee3104c740eda525f654fc73c679",
        "IPY_MODEL_fb60a817daad4e9fac0d66365349c263"
       ],
       "layout": "IPY_MODEL_612687e888ec4afa8b7ef5d30d44d716"
      }
     },
     "9baca0884fc648948054d1cd814e9449": {
      "model_module": "@jupyter-widgets/controls",
      "model_module_version": "1.5.0",
      "model_name": "FloatSliderModel",
      "state": {
       "description": "Temperature (°C)",
       "layout": "IPY_MODEL_225547f792e54aff8ccab0a1d199db36",
       "max": 30,
       "step": 0.5,
       "style": "IPY_MODEL_5060c91b9c6f4fc2bf37a769c6a33709",
       "value": 5
      }
     },
     "a61d00e6a97b42b98ef84fd2544cebd8": {
      "model_module": "@jupyter-widgets/controls",
      "model_module_version": "1.5.0",
      "model_name": "FloatSliderModel",
      "state": {
       "description": "Pressure (atm)",
       "layout": "IPY_MODEL_5881ea644eaf4bac9816b5d0a425f460",
       "max": 400,
       "min": 1,
       "step": 0.5,
       "style": "IPY_MODEL_55498ab980bc43d4a78906fb1fd5ba0b",
       "value": 1
      }
     },
     "a8f1379e60654438b86a973511b9e9a1": {
      "model_module": "@jupyter-widgets/controls",
      "model_module_version": "1.5.0",
      "model_name": "FloatSliderModel",
      "state": {
       "description": "Temperature (°C)",
       "layout": "IPY_MODEL_efa1d6aeac9b474bb21d5726b8f5889e",
       "max": 30,
       "step": 0.5,
       "style": "IPY_MODEL_d233c3ffd47942b9afe408a36e0b355e",
       "value": 5
      }
     },
     "afed9b0c4156450298ea5d7cc74cee6c": {
      "model_module": "@jupyter-widgets/base",
      "model_module_version": "1.2.0",
      "model_name": "LayoutModel",
      "state": {}
     },
     "b158b654b89d49f0bac723c985ab6eaf": {
      "model_module": "@jupyter-widgets/controls",
      "model_module_version": "1.5.0",
      "model_name": "FloatSliderModel",
      "state": {
       "description": "Pressure (atm)",
       "layout": "IPY_MODEL_6c039fa0c2954466acadc940af31b01b",
       "max": 400,
       "min": 1,
       "step": 0.5,
       "style": "IPY_MODEL_8795d5c6e4b44754bc16d1218f49c6a5",
       "value": 1
      }
     },
     "b36f52d39cee43a3866bed6aa4cd8871": {
      "model_module": "@jupyter-widgets/controls",
      "model_module_version": "1.5.0",
      "model_name": "FloatSliderModel",
      "state": {
       "description": "Temperature (°C)",
       "layout": "IPY_MODEL_c1da0c7c3987498bb78184b5070b0fc7",
       "max": 30,
       "step": 0.5,
       "style": "IPY_MODEL_f7d102f54c2a4555b3033feb2ebaa7e5",
       "value": 5
      }
     },
     "ba400bbcf02d4b5cb9bef2c192f705f0": {
      "model_module": "@jupyter-widgets/output",
      "model_module_version": "1.0.0",
      "model_name": "OutputModel",
      "state": {
       "layout": "IPY_MODEL_75e13b27ad8b4d0885c59b4dde229605",
       "outputs": [
        {
         "name": "stdout",
         "output_type": "stream",
         "text": "  Frequency  Freshwater (dB/m)  Seawater (dB/m)\n0   0.1 kHz       3.876736e-09         0.000001\n1    10 kHz       3.876736e-05         0.000808\n2  1000 kHz       3.876736e-01         0.426008\n"
        },
        {
         "data": {
          "image/png": "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\n",
          "text/plain": "<Figure size 432x288 with 1 Axes>"
         },
         "metadata": {
          "needs_background": "light"
         },
         "output_type": "display_data"
        }
       ]
      }
     },
     "bf300a699fec4de18c5bc70bdc620795": {
      "model_module": "@jupyter-widgets/base",
      "model_module_version": "1.2.0",
      "model_name": "LayoutModel",
      "state": {}
     },
     "c1da0c7c3987498bb78184b5070b0fc7": {
      "model_module": "@jupyter-widgets/base",
      "model_module_version": "1.2.0",
      "model_name": "LayoutModel",
      "state": {}
     },
     "cb20b7bf2271492892b858b3fb017add": {
      "model_module": "@jupyter-widgets/base",
      "model_module_version": "1.2.0",
      "model_name": "LayoutModel",
      "state": {}
     },
     "d233c3ffd47942b9afe408a36e0b355e": {
      "model_module": "@jupyter-widgets/controls",
      "model_module_version": "1.5.0",
      "model_name": "SliderStyleModel",
      "state": {
       "description_width": ""
      }
     },
     "d5b3e4a319ed41f69fb5392c3e96a39f": {
      "model_module": "@jupyter-widgets/base",
      "model_module_version": "1.2.0",
      "model_name": "LayoutModel",
      "state": {}
     },
     "d84b50ed85ef4f958fd18b74b472d026": {
      "model_module": "@jupyter-widgets/base",
      "model_module_version": "1.2.0",
      "model_name": "LayoutModel",
      "state": {}
     },
     "e29c9702cbeb47199bd22c0423e85af9": {
      "model_module": "@jupyter-widgets/base",
      "model_module_version": "1.2.0",
      "model_name": "LayoutModel",
      "state": {}
     },
     "eef010abda5449559919ea7f27c9a35a": {
      "model_module": "@jupyter-widgets/base",
      "model_module_version": "1.2.0",
      "model_name": "LayoutModel",
      "state": {}
     },
     "efa1d6aeac9b474bb21d5726b8f5889e": {
      "model_module": "@jupyter-widgets/base",
      "model_module_version": "1.2.0",
      "model_name": "LayoutModel",
      "state": {}
     },
     "f1302c9b7d9d4612b53a3cbfb9237131": {
      "model_module": "@jupyter-widgets/controls",
      "model_module_version": "1.5.0",
      "model_name": "VBoxModel",
      "state": {
       "_dom_classes": [
        "widget-interact"
       ],
       "children": [
        "IPY_MODEL_a8f1379e60654438b86a973511b9e9a1",
        "IPY_MODEL_a61d00e6a97b42b98ef84fd2544cebd8",
        "IPY_MODEL_ba400bbcf02d4b5cb9bef2c192f705f0"
       ],
       "layout": "IPY_MODEL_afed9b0c4156450298ea5d7cc74cee6c"
      }
     },
     "f6f5ec80bc1746b5bd9d3d7b5ee733f9": {
      "model_module": "@jupyter-widgets/base",
      "model_module_version": "1.2.0",
      "model_name": "LayoutModel",
      "state": {}
     },
     "f7d102f54c2a4555b3033feb2ebaa7e5": {
      "model_module": "@jupyter-widgets/controls",
      "model_module_version": "1.5.0",
      "model_name": "SliderStyleModel",
      "state": {
       "description_width": ""
      }
     },
     "fb60a817daad4e9fac0d66365349c263": {
      "model_module": "@jupyter-widgets/output",
      "model_module_version": "1.0.0",
      "model_name": "OutputModel",
      "state": {
       "layout": "IPY_MODEL_eef010abda5449559919ea7f27c9a35a",
       "outputs": [
        {
         "name": "stdout",
         "output_type": "stream",
         "text": "  Frequency  Freshwater (dB/m)  Seawater (dB/m)\n0   0.1 kHz       3.876736e-09         0.000001\n1    10 kHz       3.876736e-05         0.000808\n2  1000 kHz       3.876736e-01         0.426008\n"
        },
        {
         "data": {
          "image/png": "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\n",
          "text/plain": "<Figure size 432x288 with 1 Axes>"
         },
         "metadata": {
          "needs_background": "light"
         },
         "output_type": "display_data"
        }
       ]
      }
     }
    },
    "version_major": 2,
    "version_minor": 0
   }
  }
 },
 "nbformat": 4,
 "nbformat_minor": 5
}
