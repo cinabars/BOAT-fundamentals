{
 "cells": [
  {
   "cell_type": "markdown",
   "id": "ba8cfb3c-332a-4c6b-b91d-f013d8920afd",
   "metadata": {},
   "source": [
    "(acoustics-receiver)=\n",
    "# Sound reception"
   ]
  },
  {
   "cell_type": "markdown",
   "id": "730dcee1-18a7-4a0a-9a7e-ca97b3a8ba14",
   "metadata": {},
   "source": [
    "In this tutorial, we will use the receive level (RL) term in the SONAR equation as a starting point to discuss foundational concepts in sound reception."
   ]
  },
  {
   "cell_type": "markdown",
   "id": "e64d06d8-9d4a-4f70-b407-8614300d72ed",
   "metadata": {},
   "source": [
    "```{admonition} **Learning objectives**\n",
    ":class: tip\n",
    "1. Learn how sound is measured and quantified in the ocean environment\n",
    "2. Understand how acoustic waves are described in terms of their fundamental properties\n",
    "3. Understand the concept of phase and its role in determining directionality\n",
    "```"
   ]
  },
  {
   "cell_type": "markdown",
   "id": "3ef3e18c-7522-41a2-81e5-a7e489780ad4",
   "metadata": {},
   "source": [
    "## Receive level\n",
    "Receive level (RL) is what we typically measure when trying to listen to the ocean. This is intuitive, since when looking back at the [acoustic lives of the orcas](acoustics-intro_orca_and_sonar_equation), you see that:\n",
    "- RL combines all effects from sound transmission (SL) and propagation through the environment (TL) when Ola is [_purely listening_](acoustics-intro_orca_comms):\n",
    "\n",
    "    $RL = SL - TL$\n",
    "\n",
    "- RL combines sound transmission, two-way propagation, and scattering (TS) when Ola is [_pinging and listening_](acoustics-intro_orca_fish_echo):\n",
    "\n",
    "    $RL = SL - 2TL + TS$"
   ]
  },
  {
   "cell_type": "markdown",
   "id": "8bd9f9dd-3a1a-4213-955d-cddca9280f20",
   "metadata": {},
   "source": [
    "With RL, we can often tell whether a sound source (such as another whale) is present against a much quieter background. However, since most sound recordings are a time series (a series of high and low voltage measurements) and not a single number, we need to know how to turn that into RL. In addition, there are other informative sound attributes other than the \"level\" (loudness), such as the temporal pattern and its frequency content. For example, the sound of wind, rain, cracking ice, and various animals are all different. We will dive deeper into these attributes in the [Time-frequency analysis](time-frequency-analysis) tutorial and practice with real-world data during the hands-on exercise sections.\n",
    "\n",
    "First, let's see how we can actually capture sound in the ocean!\n",
    "\n",
    "<!-- \n",
    "THERE IS NO \"TIME\" IN THE SONAR EQUATION!\n",
    "- however, note that there is no \"time\" in the sonar equation!\n",
    "    - but notice that when we explained each term in previous sections, we often draw time series of the signal\n",
    "    - what happens here is that we actually implicitly \"gated\" the time series to isolate a specific component of the sonar equation\n",
    "-->"
   ]
  },
  {
   "cell_type": "code",
   "execution_count": null,
   "id": "163cc004-ff1f-4d8c-8e1b-1ab594477086",
   "metadata": {},
   "outputs": [],
   "source": []
  }
 ],
 "metadata": {
  "kernelspec": {
   "display_name": "Python 3 (ipykernel)",
   "language": "python",
   "name": "python3"
  },
  "language_info": {
   "codemirror_mode": {
    "name": "ipython",
    "version": 3
   },
   "file_extension": ".py",
   "mimetype": "text/x-python",
   "name": "python",
   "nbconvert_exporter": "python",
   "pygments_lexer": "ipython3",
   "version": "3.12.9"
  },
  "widgets": {
   "application/vnd.jupyter.widget-state+json": {
    "state": {},
    "version_major": 2,
    "version_minor": 0
   }
  }
 },
 "nbformat": 4,
 "nbformat_minor": 5
}
