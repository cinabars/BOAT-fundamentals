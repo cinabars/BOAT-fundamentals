{
 "cells": [
  {
   "cell_type": "markdown",
   "metadata": {},
   "source": [
    "# Far-field, near-field, and source level\n",
    "\n",
    "(acoustics-near_field)=\n",
    "## The Near-field of a Transducer\n",
    "\n",
    "One important property of the far-field of a transducer is that the sound in this region all appears to coming from a single point on the transducer. This is what leads to the  $1/r^2$ decrease in the intensity with range. This is no longer true near the face of the transducer. There is a region where the sound from one part of the transducer is interfering with sound from other parts of the transducer and there are no clear beams. This region is refered to as the **near-field** of the transducer. There is no simple mathematical expression for the sound field in this region, but we can numerically determine the full field for the baffled piston and the result for $f = 12 kHz$ and $a = 0.5 m$ is shown in the plot on the right below. The plot on the left shows the far-field approximation using the same set of paramters. In the far-field calculation plot, regardless of how close you get to the transducer face, the field will always appear to come from a point at the center of the transducer. In the full-field calculation, this is no longer true. There is sound coming from the entire face of the transducer, which spans -0.5 m to 0.5 m, and there is a complicated interference pattern out to about 2 m in range. Beyond this point, the tow fields (far-field and full-field) start to become similar.\n",
    "\n",
    "```{image} ../images/FarField_NearField_example.png\n",
    ":width: 400px\n",
    "```\n",
    "\n",
    "This transition between the near-field and the far-field of the transducer can be seen more clearly if we look just at the intensity along the center of the main beam. The intensity of the full-field along this axis has an analytic expression. The widget below shows both the full-field intensity (red line) and the far-field approximation (blue line). Notice that as you go further out in range, the two curves begin to converge which indicates when the transition from the near-field to the far-field has occured. There are a number of ways to estimate when this transition between near-field and far-field occurs. One useful estimate is that the range from the transducer needs to satisfy $r \\gg 2a$ and $r \\gg \\pi a^2/\\lambda$. In these calculations, the speed of sound is $c = 1500$ m/s and using the relationship between frequency and wavelength, $c = f\\lambda$ , you can verify that these conditions hold as you change the frequency and radius of the transducer. "
   ]
  },
  {
   "cell_type": "code",
   "execution_count": 1,
   "metadata": {
    "tags": [
     "hide-input"
    ]
   },
   "outputs": [],
   "source": [
    "# Import packages\n",
    "import multiprocessing as mp\n",
    "from functools import partial\n",
    "\n",
    "import numpy as np\n",
    "import matplotlib.pyplot as plt\n",
    "from scipy.special import j1  # Bessel function of the first kind\n",
    "import ipywidgets as widgets\n",
    "from ipywidgets import interact\n",
    "import pandas as pd"
   ]
  },
  {
   "cell_type": "code",
   "execution_count": 2,
   "metadata": {
    "tags": [
     "hide-input"
    ]
   },
   "outputs": [
    {
     "data": {
      "application/vnd.jupyter.widget-view+json": {
       "model_id": "3cc05a7a58604490845bd3c22bf65ab4",
       "version_major": 2,
       "version_minor": 0
      },
      "text/plain": [
       "interactive(children=(IntSlider(value=12, description='Frequency (kHz)', max=200, min=1), FloatSlider(value=0.…"
      ]
     },
     "metadata": {},
     "output_type": "display_data"
    },
    {
     "data": {
      "text/plain": [
       "<function __main__.update_far_and_full_field_intensity_on_axis(f, a, SL)>"
      ]
     },
     "execution_count": 2,
     "metadata": {},
     "output_type": "execute_result"
    }
   ],
   "source": [
    "# Constants\n",
    "rho0 = 1\n",
    "c = 1500\n",
    "\n",
    "# Create sliders for 'SL', 'a', 'f'\n",
    "f_slider = widgets.IntSlider(min=1, max=200, step=1, value=12, description='Frequency (kHz)')\n",
    "a_slider = widgets.FloatSlider(min=0.01, max=1, step=0.01, value=0.5, description='Piston Radius (m)')\n",
    "SL_slider = widgets.IntSlider(min=100, max=220, step=1, value=180, description='Source Level (dB)')\n",
    "\n",
    "def far_and_full_field_intensity_on_axis(f, a, SL):\n",
    "    # Calculate angular frequency\n",
    "    omega = 2 * np.pi * f * 1000\n",
    "\n",
    "    # Calculate wavenumber\n",
    "    k = omega / c\n",
    "\n",
    "    # Calculate sound pressure level in linear units\n",
    "    SL_lin = 10**(SL / 20)\n",
    "\n",
    "    # Calculate the particle velocity amplitude\n",
    "    U0 = SL_lin / (rho0 * c * k * a * a / 2)\n",
    "\n",
    "    # Generate x-axis points\n",
    "    x_axis = np.linspace(0.01, 5, 200)\n",
    "\n",
    "    ## Far field calculation\n",
    "    P_far_axis = 0.5 * c * U0 * k * a * a / x_axis\n",
    "    I_far_axis = 10 * np.log10(np.square(P_far_axis))\n",
    "\n",
    "    ## Full field calculation\n",
    "    P_full_axis = rho0 * c * U0 * (np.exp(-1j * k * x_axis) - np.exp(-1j * k * np.sqrt(np.square(x_axis) + np.square(a))))\n",
    "    I_full_axis = 10 * np.log10(np.abs(P_full_axis)**2)\n",
    "\n",
    "    return x_axis, I_far_axis, I_full_axis\n",
    "\n",
    "def update_far_and_full_field_intensity_on_axis(f, a, SL):\n",
    "    x_axis, I_far_axis, I_full_axis = far_and_full_field_intensity_on_axis(f, a, SL)\n",
    "    \n",
    "    # Close any existing plots\n",
    "    plt.close('all')\n",
    "\n",
    "    # Plotting\n",
    "    plt.figure(1)\n",
    "    plt.plot(x_axis, I_far_axis, label='Far-field intensity along main beam axis', linewidth=2, color=\"b\")\n",
    "    plt.plot(x_axis, I_full_axis, label='Full-field intensity along main beam axis', linewidth=2, color=\"r\")\n",
    "    plt.xlabel('Range (m)')\n",
    "    plt.ylabel('Intensity (dB re 1μPa)')\n",
    "    # plt.yaxis.set_label_position('right')\n",
    "    # plt.yaxis.label.set_rotation(270)\n",
    "    # plt.yaxis.labelpad = 13\n",
    "    # plt.yaxis.tick_right()\n",
    "    # plt.set_aspect('auto')\n",
    "    plt.grid(True)\n",
    "    \n",
    "    plt.show\n",
    "\n",
    "\n",
    "# Use interact to link widgets and plotting function\n",
    "interact(\n",
    "    update_far_and_full_field_intensity_on_axis,\n",
    "    f=f_slider,\n",
    "    a=a_slider,\n",
    "    SL=SL_slider,\n",
    ")\n"
   ]
  },
  {
   "cell_type": "markdown",
   "metadata": {},
   "source": [
    ":::{admonition} Exercise\n",
    "For the SS510 transducer, we found that at 200 kHz, the radius of the transducer was about 23 mm by using the [beampattern widget](acoustics-SL_piston_far_field). For this frequency and radius, where is the near-field to far-field transition?\n",
    ":::"
   ]
  },
  {
   "cell_type": "markdown",
   "metadata": {},
   "source": [
    "(acoustics-source_level)=\n",
    "# Source Level\n",
    "\n",
    "Since we are looking at the intensity along the axis of the main beam, this is a good time to define the **source level (SL)**. To determine the source level, the pressure in the far-field along the axis of the main beam is extrapolated back to a range of 1 m from the transducer. The mean square of the pressure, $p_{RMS}^2$, where $p_{RMS}$ is the root mean square of the pressure, is then taken and referenced to an pressure of $p_{ref} = 1 \\mu\\text{PA}$. In decibels, the source level is expressed as \n",
    "\n",
    "$$ SL = 20\\log_{10}\\frac{p_{RMS}\\left(r_{ref}\\right)}{p_{ref}},$$\n",
    "\n",
    "where $r_{ref} =$ 1 m. In the calculation above, you can change the source level. Notice that regardless of what the full-field expression is doing or where the near-to-far-field transition is located, the far-field value at 1 m is always at the source just as we defined it.\n",
    "\n",
    "# Source Directivity\n",
    "\n",
    "How do we account for the beam pattern in the sonar equation? The source level is defined in terms of the intensity along the main beam of the transducer. If we are interested in the intensity away from this axis, we can incorporate the **source directivity (D)** into the sonar equation. The source directivity is defined as the ratio of the intensity measured at a given range and at an angle relative to the main beam axis to the intensity at the same range but along the main beam axis,\n",
    "\n",
    "$$ D = 10\\log_{10}\\frac{I\\left(r,\\theta,\\phi\\right)}{I_{ax}\\left(r\\right)} $$\n",
    "\n",
    "where $I_{ax}$ is the intensity along the main beam axis where $\\theta = 0$ and $\\phi = 0$. This is what we plotted in the [beampattern widget](acoustics-SL_piston_far_field).\n",
    "\n",
    "For our orca example, if Ola turns is trying find a fish but is facing the wrong direction, the sonar equation becomes\n",
    "\n",
    "$$ RL = SL + D - 2TL + TS.$$\n",
    "\n",
    "Although the source directivity is added to the source level, it is typically (but not always) a negative number as you rotate away from the main beam. Thus if Ola is facing the wrong direction, the return from the fish will be weaker."
   ]
  }
 ],
 "metadata": {
  "celltoolbar": "Tags",
  "kernelspec": {
   "display_name": "Python 3 (ipykernel)",
   "language": "python",
   "name": "python3"
  },
  "language_info": {
   "codemirror_mode": {
    "name": "ipython",
    "version": 3
   },
   "file_extension": ".py",
   "mimetype": "text/x-python",
   "name": "python",
   "nbconvert_exporter": "python",
   "pygments_lexer": "ipython3",
   "version": "3.12.2"
  },
  "widgets": {
   "application/vnd.jupyter.widget-state+json": {
    "state": {
     "09f7135ec5c44d71bced186b23722df8": {
      "model_module": "@jupyter-widgets/output",
      "model_module_version": "1.0.0",
      "model_name": "OutputModel",
      "state": {
       "layout": "IPY_MODEL_40775c17973d4626a567c05d30aab841",
       "outputs": [
        {
         "data": {
          "image/png": "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",
          "text/plain": "<Figure size 640x480 with 1 Axes>"
         },
         "metadata": {},
         "output_type": "display_data"
        }
       ]
      }
     },
     "210ed078df4844faa7a82f5fa13ae350": {
      "model_module": "@jupyter-widgets/base",
      "model_module_version": "2.0.0",
      "model_name": "LayoutModel",
      "state": {}
     },
     "2fc9517cdfea4e31bd27256326a4c221": {
      "model_module": "@jupyter-widgets/controls",
      "model_module_version": "2.0.0",
      "model_name": "SliderStyleModel",
      "state": {
       "description_width": ""
      }
     },
     "3cc05a7a58604490845bd3c22bf65ab4": {
      "model_module": "@jupyter-widgets/controls",
      "model_module_version": "2.0.0",
      "model_name": "VBoxModel",
      "state": {
       "_dom_classes": [
        "widget-interact"
       ],
       "children": [
        "IPY_MODEL_da35755e588c494a99bea9699ffd03ef",
        "IPY_MODEL_43359591dfa244cea9cb31da04c6decf",
        "IPY_MODEL_48401d3c44f8461e8019f4bd13792b03",
        "IPY_MODEL_09f7135ec5c44d71bced186b23722df8"
       ],
       "layout": "IPY_MODEL_776d8f52b61e4b4a898d0afabd962350"
      }
     },
     "40775c17973d4626a567c05d30aab841": {
      "model_module": "@jupyter-widgets/base",
      "model_module_version": "2.0.0",
      "model_name": "LayoutModel",
      "state": {}
     },
     "43359591dfa244cea9cb31da04c6decf": {
      "model_module": "@jupyter-widgets/controls",
      "model_module_version": "2.0.0",
      "model_name": "FloatSliderModel",
      "state": {
       "behavior": "drag-tap",
       "description": "Piston Radius (m)",
       "layout": "IPY_MODEL_210ed078df4844faa7a82f5fa13ae350",
       "max": 1,
       "min": 0.01,
       "step": 0.01,
       "style": "IPY_MODEL_f2e702678d974672aa96530e22178583",
       "value": 0.5
      }
     },
     "48401d3c44f8461e8019f4bd13792b03": {
      "model_module": "@jupyter-widgets/controls",
      "model_module_version": "2.0.0",
      "model_name": "IntSliderModel",
      "state": {
       "behavior": "drag-tap",
       "description": "Source Level (dB)",
       "layout": "IPY_MODEL_c1ae01f9c2664a52be6e768ba92e83a8",
       "max": 220,
       "min": 100,
       "style": "IPY_MODEL_2fc9517cdfea4e31bd27256326a4c221",
       "value": 180
      }
     },
     "53b0151f832c4e38bafc0ff4ec1b0e5d": {
      "model_module": "@jupyter-widgets/controls",
      "model_module_version": "2.0.0",
      "model_name": "SliderStyleModel",
      "state": {
       "description_width": ""
      }
     },
     "74fdeb7a281141f4b721aeaf852188f3": {
      "model_module": "@jupyter-widgets/base",
      "model_module_version": "2.0.0",
      "model_name": "LayoutModel",
      "state": {}
     },
     "776d8f52b61e4b4a898d0afabd962350": {
      "model_module": "@jupyter-widgets/base",
      "model_module_version": "2.0.0",
      "model_name": "LayoutModel",
      "state": {}
     },
     "c1ae01f9c2664a52be6e768ba92e83a8": {
      "model_module": "@jupyter-widgets/base",
      "model_module_version": "2.0.0",
      "model_name": "LayoutModel",
      "state": {}
     },
     "da35755e588c494a99bea9699ffd03ef": {
      "model_module": "@jupyter-widgets/controls",
      "model_module_version": "2.0.0",
      "model_name": "IntSliderModel",
      "state": {
       "behavior": "drag-tap",
       "description": "Frequency (kHz)",
       "layout": "IPY_MODEL_74fdeb7a281141f4b721aeaf852188f3",
       "max": 200,
       "min": 1,
       "style": "IPY_MODEL_53b0151f832c4e38bafc0ff4ec1b0e5d",
       "value": 12
      }
     },
     "f2e702678d974672aa96530e22178583": {
      "model_module": "@jupyter-widgets/controls",
      "model_module_version": "2.0.0",
      "model_name": "SliderStyleModel",
      "state": {
       "description_width": ""
      }
     },
     "undefined": {
      "model_module": "@jupyter-widgets/controls",
      "model_module_version": "2.0.0",
      "model_name": "VBoxModel",
      "state": {
       "_view_name": "ErrorWidgetView",
       "error": {},
       "msg": "Model class 'VBoxModel' from module '@jupyter-widgets/controls' is loaded but can not be instantiated"
      }
     }
    },
    "version_major": 2,
    "version_minor": 0
   }
  }
 },
 "nbformat": 4,
 "nbformat_minor": 4
}
