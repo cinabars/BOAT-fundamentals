{
 "cells": [
  {
   "cell_type": "markdown",
   "metadata": {
    "editable": true,
    "slideshow": {
     "slide_type": ""
    },
    "tags": []
   },
   "source": [
    "# Far-field, near-field, and source level\n",
    "\n",
    "(acoustics-near_field)=\n",
    "## The Near-field of a Transducer\n",
    "\n",
    "One important property of the far-field of a transducer is that the sound in this region all appears to coming from a single point on the transducer. This is what leads to the  $1/r^2$ decrease in the intensity with range. This is no longer true near the face of the transducer. There is a region where the sound from one part of the transducer is interfering with sound from other parts of the transducer and there are no clear beams. This region is refered to as the **near-field** of the transducer. There is no simple mathematical expression for the sound field in this region, but we can numerically determine the full field for the baffled piston and the result for $f = 12 kHz$ and $a = 0.5 m$ is shown in the plot on the right below. The plot on the left shows the far-field approximation using the same set of paramters. In the far-field calculation plot, regardless of how close you get to the transducer face, the field will always appear to come from a point at the center of the transducer. In the full-field calculation, this is no longer true. There is sound coming from the entire face of the transducer, which spans -0.5 m to 0.5 m, and there is a complicated interference pattern out to about 2 m in range. Beyond this point, the tow fields (far-field and full-field) start to become similar.\n",
    "\n",
    "```{image} ../images/FarField_NearField_example.png\n",
    ":width: 600px\n",
    "```\n",
    "\n",
    "This transition between the near-field and the far-field of the transducer can be seen more clearly if we look just at the intensity along the center of the main beam. The intensity of the full-field along this axis has an analytic expression. The widget below shows both the full-field intensity (red line) and the far-field approximation (blue line). Notice that as you go further out in range, the two curves begin to converge which indicates when the transition from the near-field to the far-field has occured. There are a number of ways to estimate when this transition between near-field and far-field occurs. One useful estimate is that the range from the transducer needs to satisfy $r \\gg 2a$ and $r \\gg \\pi a^2/\\lambda$. In these calculations, the speed of sound is $c = 1500$ m/s and using the relationship between frequency and wavelength, $c = f\\lambda$ , you can verify that these conditions hold as you change the frequency and radius of the transducer. "
   ]
  },
  {
   "cell_type": "code",
   "execution_count": 1,
   "metadata": {
    "editable": true,
    "jupyter": {
     "source_hidden": true
    },
    "slideshow": {
     "slide_type": ""
    },
    "tags": [
     "remove-input"
    ]
   },
   "outputs": [],
   "source": [
    "# Import packages\n",
    "import multiprocessing as mp\n",
    "from functools import partial\n",
    "\n",
    "import numpy as np\n",
    "import matplotlib.pyplot as plt\n",
    "from scipy.special import j1  # Bessel function of the first kind\n",
    "import ipywidgets as widgets\n",
    "from ipywidgets import interactive\n",
    "import pandas as pd"
   ]
  },
  {
   "cell_type": "code",
   "execution_count": 2,
   "metadata": {
    "editable": true,
    "jupyter": {
     "source_hidden": true
    },
    "slideshow": {
     "slide_type": ""
    },
    "tags": [
     "remove-input"
    ]
   },
   "outputs": [
    {
     "data": {
      "application/vnd.jupyter.widget-view+json": {
       "model_id": "099f17eaf22646789e85d1eee4cb17ef",
       "version_major": 2,
       "version_minor": 0
      },
      "text/plain": [
       "interactive(children=(IntSlider(value=12, description='Frequency (kHz)', max=200, min=1, style=SliderStyle(des…"
      ]
     },
     "metadata": {},
     "output_type": "display_data"
    }
   ],
   "source": [
    "# Constants\n",
    "rho0 = 1\n",
    "c = 1500\n",
    "\n",
    "# Create sliders for 'SL', 'a', 'f'\n",
    "f_slider = widgets.IntSlider(\n",
    "    min=1, max=200, step=1, value=12,\n",
    "    description='Frequency (kHz)',\n",
    "    style={'description_width': 'initial'},\n",
    ")\n",
    "a_slider = widgets.FloatSlider(\n",
    "    min=0.01, max=1, step=0.01, value=0.5,\n",
    "    description='Piston Radius (m)',\n",
    "    style={'description_width': 'initial'},\n",
    ")\n",
    "SL_slider = widgets.IntSlider(\n",
    "    min=100, max=220, step=1, value=180,\n",
    "    description='Source Level (dB)',\n",
    "    style={'description_width': 'initial'},\n",
    ")\n",
    "\n",
    "def far_and_full_field_intensity_on_axis(f, a, SL):\n",
    "    # Calculate angular frequency\n",
    "    omega = 2 * np.pi * f * 1000\n",
    "\n",
    "    # Calculate wavenumber\n",
    "    k = omega / c\n",
    "\n",
    "    # Calculate sound pressure level in linear units\n",
    "    SL_lin = 10**(SL / 20)\n",
    "\n",
    "    # Calculate the particle velocity amplitude\n",
    "    U0 = SL_lin / (rho0 * c * k * a * a / 2)\n",
    "\n",
    "    # Generate x-axis points\n",
    "    x_axis = np.linspace(0.01, 5, 200)\n",
    "\n",
    "    ## Far field calculation\n",
    "    P_far_axis = 0.5 * c * U0 * k * a * a / x_axis\n",
    "    I_far_axis = 10 * np.log10(np.square(P_far_axis))\n",
    "\n",
    "    ## Full field calculation\n",
    "    P_full_axis = rho0 * c * U0 * (np.exp(-1j * k * x_axis) - np.exp(-1j * k * np.sqrt(np.square(x_axis) + np.square(a))))\n",
    "    I_full_axis = 10 * np.log10(np.abs(P_full_axis)**2)\n",
    "\n",
    "    return x_axis, I_far_axis, I_full_axis\n",
    "\n",
    "def update_far_and_full_field_intensity_on_axis(f, a, SL):\n",
    "    x_axis, I_far_axis, I_full_axis = far_and_full_field_intensity_on_axis(f, a, SL)\n",
    "    \n",
    "    # Close any existing plots\n",
    "    plt.close('all')\n",
    "\n",
    "    # Plotting\n",
    "    plt.figure(1)\n",
    "    plt.plot(x_axis, I_far_axis, label='Far-field intensity along main beam axis', linewidth=2, color=\"b\")\n",
    "    plt.plot(x_axis, I_full_axis, label='Full-field intensity along main beam axis', linewidth=2, color=\"r\")\n",
    "    plt.xlabel('Range (m)')\n",
    "    plt.ylabel('Intensity (dB re 1μPa)')\n",
    "    # plt.yaxis.set_label_position('right')\n",
    "    # plt.yaxis.label.set_rotation(270)\n",
    "    # plt.yaxis.labelpad = 13\n",
    "    # plt.yaxis.tick_right()\n",
    "    # plt.set_aspect('auto')\n",
    "    plt.grid(True)\n",
    "    \n",
    "    plt.show\n",
    "\n",
    "\n",
    "# Use interact to link widgets and plotting function\n",
    "interactive_plot = interactive(\n",
    "    update_far_and_full_field_intensity_on_axis,\n",
    "    f=f_slider,\n",
    "    a=a_slider,\n",
    "    SL=SL_slider,\n",
    ")\n",
    "display(interactive_plot)"
   ]
  },
  {
   "cell_type": "markdown",
   "metadata": {},
   "source": [
    ":::{admonition} Exercise\n",
    "For the SS510 transducer, we found that at 200 kHz, the radius of the transducer was about 23 mm by using the [beampattern widget](acoustics-SL_piston_far_field). For this frequency and radius, where is the near-field to far-field transition?\n",
    ":::"
   ]
  },
  {
   "cell_type": "markdown",
   "metadata": {},
   "source": [
    "(acoustics-source_level)=\n",
    "# Source Level\n",
    "\n",
    "Since we are looking at the intensity along the axis of the main beam, this is a good time to define the **source level (SL)**. To determine the source level, the pressure in the far-field along the axis of the main beam is extrapolated back to a range of 1 m from the transducer. The mean square of the pressure, $p_{RMS}^2$, where $p_{RMS}$ is the root mean square of the pressure, is then taken and referenced to an pressure of $p_{ref} = 1 \\mu\\text{PA}$. In decibels, the source level is expressed as \n",
    "\n",
    "$$ SL = 20\\log_{10}\\frac{p_{RMS}\\left(r_{ref}\\right)}{p_{ref}},$$\n",
    "\n",
    "where $r_{ref} =$ 1 m. In the calculation above, you can change the source level. Notice that regardless of what the full-field expression is doing or where the near-to-far-field transition is located, the far-field value at 1 m is always at the source just as we defined it.\n",
    "\n",
    "# Source Directivity\n",
    "\n",
    "How do we account for the beam pattern in the sonar equation? The source level is defined in terms of the intensity along the main beam of the transducer. If we are interested in the intensity away from this axis, we can incorporate the **source directivity (D)** into the sonar equation. The source directivity is defined as the ratio of the intensity measured at a given range and at an angle relative to the main beam axis to the intensity at the same range but along the main beam axis,\n",
    "\n",
    "$$ D = 10\\log_{10}\\frac{I\\left(r,\\theta,\\phi\\right)}{I_{ax}\\left(r\\right)} $$\n",
    "\n",
    "where $I_{ax}$ is the intensity along the main beam axis where $\\theta = 0$ and $\\phi = 0$. This is what we plotted in the [beampattern widget](acoustics-SL_piston_far_field).\n",
    "\n",
    "For our orca example, if Ola turns is trying find a fish but is facing the wrong direction, the sonar equation becomes\n",
    "\n",
    "$$ RL = SL + D - 2TL + TS.$$\n",
    "\n",
    "Although the source directivity is added to the source level, it is typically (but not always) a negative number as you rotate away from the main beam. Thus if Ola is facing the wrong direction, the return from the fish will be weaker."
   ]
  }
 ],
 "metadata": {
  "celltoolbar": "Tags",
  "kernelspec": {
   "display_name": "Python 3 (ipykernel)",
   "language": "python",
   "name": "python3"
  },
  "language_info": {
   "codemirror_mode": {
    "name": "ipython",
    "version": 3
   },
   "file_extension": ".py",
   "mimetype": "text/x-python",
   "name": "python",
   "nbconvert_exporter": "python",
   "pygments_lexer": "ipython3",
   "version": "3.12.9"
  },
  "widgets": {
   "application/vnd.jupyter.widget-state+json": {
    "state": {
     "009f4e278c3e4434b1f877153a5e8550": {
      "model_module": "@jupyter-widgets/controls",
      "model_module_version": "2.0.0",
      "model_name": "IntSliderModel",
      "state": {
       "behavior": "drag-tap",
       "description": "Frequency (kHz)",
       "layout": "IPY_MODEL_1a12dc0597e449bf87e12a66b6815251",
       "max": 200,
       "min": 1,
       "style": "IPY_MODEL_4567e3c1873b47f4a2861557b31ec7e7",
       "value": 12
      }
     },
     "099f17eaf22646789e85d1eee4cb17ef": {
      "model_module": "@jupyter-widgets/controls",
      "model_module_version": "2.0.0",
      "model_name": "VBoxModel",
      "state": {
       "_dom_classes": [
        "widget-interact"
       ],
       "children": [
        "IPY_MODEL_009f4e278c3e4434b1f877153a5e8550",
        "IPY_MODEL_9f38941883e34a7d8472fe6723ca1440",
        "IPY_MODEL_fffb919cf34e47c4ad509f199fac05ca",
        "IPY_MODEL_ef302ae22be04ca69e5389190c6b1c83"
       ],
       "layout": "IPY_MODEL_6fb97bfea0024fa0aed2854dc8069c9a"
      }
     },
     "139734614145485e92f2ae3234058d92": {
      "model_module": "@jupyter-widgets/controls",
      "model_module_version": "2.0.0",
      "model_name": "SliderStyleModel",
      "state": {
       "description_width": "initial"
      }
     },
     "1a12dc0597e449bf87e12a66b6815251": {
      "model_module": "@jupyter-widgets/base",
      "model_module_version": "2.0.0",
      "model_name": "LayoutModel",
      "state": {}
     },
     "4567e3c1873b47f4a2861557b31ec7e7": {
      "model_module": "@jupyter-widgets/controls",
      "model_module_version": "2.0.0",
      "model_name": "SliderStyleModel",
      "state": {
       "description_width": "initial"
      }
     },
     "57ad10898940431eb89a48a35cd1600e": {
      "model_module": "@jupyter-widgets/controls",
      "model_module_version": "2.0.0",
      "model_name": "SliderStyleModel",
      "state": {
       "description_width": "initial"
      }
     },
     "6fb97bfea0024fa0aed2854dc8069c9a": {
      "model_module": "@jupyter-widgets/base",
      "model_module_version": "2.0.0",
      "model_name": "LayoutModel",
      "state": {}
     },
     "9234511d0d784b6d947b8d270ac94861": {
      "model_module": "@jupyter-widgets/base",
      "model_module_version": "2.0.0",
      "model_name": "LayoutModel",
      "state": {}
     },
     "9f38941883e34a7d8472fe6723ca1440": {
      "model_module": "@jupyter-widgets/controls",
      "model_module_version": "2.0.0",
      "model_name": "FloatSliderModel",
      "state": {
       "behavior": "drag-tap",
       "description": "Piston Radius (m)",
       "layout": "IPY_MODEL_9234511d0d784b6d947b8d270ac94861",
       "max": 1,
       "min": 0.01,
       "step": 0.01,
       "style": "IPY_MODEL_57ad10898940431eb89a48a35cd1600e",
       "value": 0.5
      }
     },
     "e009a9696826404182eb3d286e45b675": {
      "model_module": "@jupyter-widgets/base",
      "model_module_version": "2.0.0",
      "model_name": "LayoutModel",
      "state": {}
     },
     "e8a49c73508249b894ab6d693d55f82a": {
      "model_module": "@jupyter-widgets/base",
      "model_module_version": "2.0.0",
      "model_name": "LayoutModel",
      "state": {}
     },
     "ef302ae22be04ca69e5389190c6b1c83": {
      "model_module": "@jupyter-widgets/output",
      "model_module_version": "1.0.0",
      "model_name": "OutputModel",
      "state": {
       "layout": "IPY_MODEL_e8a49c73508249b894ab6d693d55f82a",
       "outputs": [
        {
         "data": {
          "image/png": "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",
          "text/plain": "<Figure size 640x480 with 1 Axes>"
         },
         "metadata": {},
         "output_type": "display_data"
        }
       ]
      }
     },
     "fffb919cf34e47c4ad509f199fac05ca": {
      "model_module": "@jupyter-widgets/controls",
      "model_module_version": "2.0.0",
      "model_name": "IntSliderModel",
      "state": {
       "behavior": "drag-tap",
       "description": "Source Level (dB)",
       "layout": "IPY_MODEL_e009a9696826404182eb3d286e45b675",
       "max": 220,
       "min": 100,
       "style": "IPY_MODEL_139734614145485e92f2ae3234058d92",
       "value": 180
      }
     }
    },
    "version_major": 2,
    "version_minor": 0
   }
  }
 },
 "nbformat": 4,
 "nbformat_minor": 4
}
