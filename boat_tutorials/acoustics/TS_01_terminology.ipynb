{
 "cells": [
  {
   "cell_type": "markdown",
   "id": "289a1865-6694-48df-897c-836f5cc563a8",
   "metadata": {
    "editable": true,
    "slideshow": {
     "slide_type": ""
    },
    "tags": []
   },
   "source": [
    "(acoustics-scattering_setup)=\n",
    "# Terminology\n",
    "\n",
    "When it comes to studying acoustic scattering, there are many terms that could be confusing. Read on to learn more about them!"
   ]
  },
  {
   "cell_type": "markdown",
   "id": "f197e007-2cec-42d0-a832-181ed6cce2f8",
   "metadata": {
    "editable": true,
    "slideshow": {
     "slide_type": ""
    },
    "tags": []
   },
   "source": [
    "(acoustics-scattering_monostatic_bistatic)=\n",
    "## Monostatic and bistatic\n",
    "The terms \"monostatic\" or \"bistatic\" describe the spatial relationship between the sound transmitter, receiver, and the scatterer. \n",
    "\n",
    "```{image} ../images/TS/monostatic_bistatic.png\n",
    ":width: 600px\n",
    ":align: center\n",
    "```"
   ]
  },
  {
   "cell_type": "markdown",
   "id": "e7e7afe5-63d6-4a80-8cf5-922f611b3a67",
   "metadata": {
    "editable": true,
    "slideshow": {
     "slide_type": ""
    },
    "tags": []
   },
   "source": [
    "**Monostatic** means that the transmitter and receiver are located at the same place (co-located). This is the scenario typically seen in fisheries echosounders or bottom profilers, for which the same or nearby set of transducers are used to both transmit the probing signals and receive the returning echoes. In a monostatic setup, the returning echo signals are often referred to as **backscatter**, because they travel in the opposite direction (180$^\\circ$ angle) from the transmitted sound."
   ]
  },
  {
   "cell_type": "markdown",
   "id": "ff379ac3-4623-4971-b82a-697be6e6726e",
   "metadata": {
    "editable": true,
    "slideshow": {
     "slide_type": ""
    },
    "tags": []
   },
   "source": [
    "**Bistatic** means that the transmitter and receiver are located separately at different places. This is typically seen in problems involving a much larger spatial context, such as when we are interested in measuring how sound interacts with the seafloor and sea surface before reaching a receiver far away from the transmitter. Here, the direction of the scatterered signals does not have to be in a specific direction with respect to the transmitted sound."
   ]
  },
  {
   "cell_type": "markdown",
   "id": "c77b05c2-f4e7-4a09-851f-67920b9a92a4",
   "metadata": {
    "editable": true,
    "slideshow": {
     "slide_type": ""
    },
    "tags": []
   },
   "source": [
    ":::{note}\n",
    "It can sometimes be difficult to use the same transducer to transmit sound and receive echoes. In these cases, researchers often put the transmitter and receiver as close as possible side-by-side, to _approximate_ the monostatic setup. The quality of this approximation depends on many factors, including the sound frequency and scatterer size.\n",
    ":::"
   ]
  },
  {
   "cell_type": "markdown",
   "id": "5c658682-fc8f-4352-870f-5fae21177f05",
   "metadata": {
    "editable": true,
    "slideshow": {
     "slide_type": ""
    },
    "tags": []
   },
   "source": [
    "(acoustics-scattering_total_cross_sections)=\n",
    "## Total cross sections\n",
    "\n",
    "When sound impinges on a scatterer, part of the acoustic energy is scattered, and part of the energy is absorbed. We can think of the scatterer as intercepting the flow of sound energy with the **total extinction cross section** ($\\sigma_e$), which is a combination of the **total absorption cross section** ($\\sigma_{a,tot}$) and the **total scattering cross section** ($\\sigma_{s,tot}$):\n",
    "\n",
    "$$\\sigma_e = \\sigma_{a, tot} + \\sigma_{s, tot}$$"
   ]
  },
  {
   "cell_type": "markdown",
   "id": "f65412b1-7454-4e36-bc27-d9294dc4781d",
   "metadata": {
    "editable": true,
    "slideshow": {
     "slide_type": ""
    },
    "tags": []
   },
   "source": [
    "(acoustics-scattering_differential_scattering_cross_section)=\n",
    "## Differential scattering cross section\n",
    "\n",
    "How is the total cross sections relate to the echoes we measure? In many practical cases, we assume that a scatter that is very far from the sound source and receiver. This allows us to approximate the source, receiver, and scatterer all as \"points.\" This way, we can focus our analysis on the scatterer's acoustic response by isolating it from the rest of the [\"system\"](acoustics-intro) we discussed in the beginning.\n",
    "\n",
    "When the receiver is far away from the scatterer, we can approximate the returning echoes from be coming from a specific side of the scatterer (scattering angle), and define the **differential scattering cross section** ($\\sigma$) to be\n",
    "\n",
    "$$\\sigma = \\sigma(\\textrm{scattering angle})$$\n",
    "\n",
    "The total scattering cross section is the combination (sum or integral) of differential scattering cross section at all sides\n",
    "\n",
    "$$\\sigma_{s,tot} = \\sum_\\textrm{all angles} \\sigma(\\textrm{scattering angle})$$\n",
    "\n",
    "The acoustic response of a scatterer is usually frequency-dependent. Therefore, the above is in general:\n",
    "\n",
    "$$\\sigma_{s,tot}(f) = \\sum_\\textrm{all angles} \\sigma(\\textrm{scattering angle}, f)$$"
   ]
  },
  {
   "cell_type": "markdown",
   "id": "deaac152-3bab-4881-9590-7b840e839ed1",
   "metadata": {
    "editable": true,
    "slideshow": {
     "slide_type": ""
    },
    "tags": []
   },
   "source": [
    "## Target strength\n",
    "\n",
    "Target strength (TS) is a logarithmic measure of the differential scattering cross section\n",
    "\n",
    "$$TS(\\textrm{scattering angle}, f) = 10 \\log_{10} \\frac{\\sigma(\\textrm{scattering angle}, f)}{1 \\textrm{ m}^2}$$\n",
    "\n",
    "Here, $1 \\textrm{ m}^2$ is the _reference unit_ to express TS in [decibel](primer-decibel)."
   ]
  },
  {
   "cell_type": "markdown",
   "id": "c449a952-f6f7-4268-908c-7f1e60899129",
   "metadata": {
    "editable": true,
    "slideshow": {
     "slide_type": ""
    },
    "tags": []
   },
   "source": [
    ":::{note}\n",
    "Why is the unit of the cross sections $\\textrm{ m}^2$?\n",
    "\n",
    "This is because we usually quantify the incident sound energy using the acoustics intensity $I_{inc}$, which is the power carried by sound waves **per unit area** (unit: $\\textrm{W}/\\textrm{m}^2$). By thinking of the scatterer as intercepting the incident sound energy, we can intuitively understand the total acoustic power (unit: $\\textrm{W}$) it absorbs ($P_{a,tot}$) and scatters ($P_{s,tot}$), which are related to the total cross sections as\n",
    "\n",
    "$$\\sigma_{a,tot} = \\frac{ P_{a,tot} }{ I_{inc} }$$\n",
    "\n",
    "and \n",
    "\n",
    "$$\\sigma_{s,tot} = \\frac{ P_{s,tot} }{ I_{inc} }$$\n",
    "\n",
    "It follows that the different scattering cross section $\\sigma$ also has the same unit.\n",
    ":::"
   ]
  },
  {
   "cell_type": "code",
   "execution_count": null,
   "id": "8ee95b24-a183-4d8d-8ca4-1929772c3bb5",
   "metadata": {},
   "outputs": [],
   "source": []
  }
 ],
 "metadata": {
  "kernelspec": {
   "display_name": "Python 3 (ipykernel)",
   "language": "python",
   "name": "python3"
  },
  "language_info": {
   "codemirror_mode": {
    "name": "ipython",
    "version": 3
   },
   "file_extension": ".py",
   "mimetype": "text/x-python",
   "name": "python",
   "nbconvert_exporter": "python",
   "pygments_lexer": "ipython3",
   "version": "3.12.9"
  },
  "widgets": {
   "application/vnd.jupyter.widget-state+json": {
    "state": {},
    "version_major": 2,
    "version_minor": 0
   }
  }
 },
 "nbformat": 4,
 "nbformat_minor": 5
}
