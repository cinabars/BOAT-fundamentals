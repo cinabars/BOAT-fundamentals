{
 "cells": [
  {
   "cell_type": "markdown",
   "metadata": {},
   "source": [
    "# Rough surface scattering\n",
    "We will shift now from scattering from discrete objects in the water column such as fish to scattering from the ocean sea surface and seafloor. In both cases, we are measuring sound energy that is redirected by the scatterer. In the case of fish as a scatterer, the refdirected sound is treated as coherent and given the same geometry and if the fish are similar to one another, the redirected sound will appear approximately the same for each fish.\n",
    "\n",
    "This isn't the case for the seafloor or the sea surface. As the sea surface changes due to passing waves, the scattered sound can fluctuate significantly. Similarly for the seafloor. Although a large area may have the same statistical description, as the sonar moves over the seafloor, the returned signal will fluctuate.\n",
    "\n",
    "As a result, instead of treating each returned signal in isolation, the goal of characterizing the scattering is to understand how the statistics of those fluctuations depend on the environment."
   ]
  },
  {
   "cell_type": "markdown",
   "metadata": {},
   "source": [
    "## Defining and measuring a rough surface\n",
    "Before we talk about the scattering of sound from the seafloor, we will begin by defining what we mean when we say a rough surface. For the sea surface, while there are occasions when the sea is very calm and the ocean surface is flat, but more often than not, there are waves coming from different directions which creates an undulating surface like the one shown below.\n",
    "\n",
    "```{image} ../images/rough_sea_surface.png\n",
    ":width: 400px\n",
    "```\n",
    "\n",
    "The height of the surface is changing over time and these variations can be treated as random at any point in time or at different locations on the surface. Given this random nature, we use statistics to describe the surface. We can write the height of a random surface as\n",
    "\n",
    "$$z\\left(x,y\\right) = \\left<z\\right> + \\delta z\\left(x,y\\right)$$\n",
    "\n",
    "where $\\left<z\\right>$ is the mean height surface and $\\delta z$ is the displacement of the surface at each point and $<\\delta z> = 0$. We can get a sense of how rough the surface is by looking at the **RMS roughness**:\n",
    "\n",
    "$$ h = \\sqrt{\\left<\\delta z\\right>^2}. $$\n",
    "\n",
    "On the right side of the image below is a map of the seafloor height measured using the laser line scanning system shown in the left of the image. This imaging system measures the height of the seafloor at every 1 mm step in the x and y directions. You can clearly see small undulations that might have been produced by currents and circular, pock marks made by feeding fish. For this surface, the RMS roughness is $h = 0.31$ cm. The sea surface shown above, probably has an rms roughness closer to 10 cm. Rough seas can have RMS roughness on the order of 3-5 m.\n",
    "\n",
    "```{image} ../images/sand_seafloor.png\n",
    ":width: 800px\n",
    "```\n",
    "\n",
    "Another way to characterize the roughness of a surface is to look at the **roughness power spectrum**. While we won't go into a lot of detail here, the power spectrum is related to the fourier transform of the surface and is a way to see how the fluctuation of the heights on the surface vary as a function of length scale. For example there may be large undulating features on the seafloor that vary horizontal over meters, while there might also be smaller bumps and ridges that change on the order of centimeters. In the example above, the fish pock marks are on the order of 2-10 cm while the larger hill-like features are 20-30 cm long. We will dig into this in greater detail in future versions of this page.\n"
   ]
  },
  {
   "cell_type": "markdown",
   "metadata": {},
   "source": [
    "## Scattering strength\n",
    "\n",
    "As we said earlier, sound scattered from a rough surface varies as the rough surface changes in time or if we move to different locations on the surface. As a consequence we are interested in measuring the fluctuations in the scattered field. The total pressure after sound has interacted with the seafloor can be expressed as\n",
    "\n",
    "$$ p = \\left<p\\right> + p_s, $$\n",
    "\n",
    "where $p_s$ is the scattered pressure and $<>$ denotes the mean taken using measurements of the recieved pressure from a bunch of different \"looks\" at the rough surface. This could mean making repeat measurements at the same location on the sea surface as the surface changes due to the passing waves or making measurements at different locations on the seafloor.  From this equation, the mean of the scattered pressure is zero. What is of interest in rough surface scattering is not the mean of the scattered pressure, but rather the _mean square_ of the scattered pressure. The mean square scattered pressure can be related to the rough surface properties through\n",
    "\n",
    "$$<|p_s|^2> = |p_i|^2 A \\sigma \\frac{1}{r^2},$$\n",
    "\n",
    "where $|p_i|^2$ is the mean square of the incident pressure, $A$ is the area of the scattering patch on the seafloor, $r_s$ is the distance of the receiver from the patch, and $\\sigma$ is the **scattering cross section.** This cross section differs from the target scattering cross section in that this cross section is dimensionless since it is now defined for an area. If you wanted to be really specific, you could refer to this as the \"scattering cross section per unit area per unit solid angle,\" but this is a mouthful and tend to use just \"scattering cross section.\" The scattering cross section is a function of the incident and scattered grazing angles as was the case in target scattering. Instead of target strength, though, we define the **scattering strength** as\n",
    "\n",
    "$$ S = 10\\log_{10}\\sigma.$$\n",
    "\n",
    "It's worth noting that the equation relating the scattered pressure and the scattering cross section is defined in terms of an incident and scattered plane waves. As a result, some care needs to be taken when calculating the scattered field so that the directionality and time dependence of the incident field are taken into account. In the simplest case, the contribution from a small patch of the seafloor can be expressed in terms of the sonar equation as\n",
    "\n",
    "$$ RL = SL + 2TL + S + 10\\log_{10}A,$$\n",
    "\n",
    "where $A$ is the area of ensonified patch of the seafloor.\n"
   ]
  },
  {
   "cell_type": "markdown",
   "metadata": {},
   "source": [
    "## Backscattering from a rough surface\n",
    "We won't go into details here, but below is a widget that calculates the backscattering strength for a rough seafloor using a statistical description of the seafloor that yields an RMS roughness of 1 cm. The calculation uses a small roughness perturbation theory and is a good approximation when the ratio of the RMS roughness to the wavelength is small. For the 40 kHz signal used in this example, the wavelength is 3.75 cm and the ratio is $h/\\lambda = 0.27$. The main goal of the widget at this stage is to show how the scattering changes with sediment properties while keeping the rough surface the same."
   ]
  },
  {
   "cell_type": "code",
   "execution_count": 1,
   "metadata": {
    "tags": [
     "hide-input"
    ]
   },
   "outputs": [],
   "source": [
    "# Import packages\n",
    "import numpy as np\n",
    "import matplotlib.pyplot as plt\n",
    "import ipywidgets as widgets\n",
    "\n",
    "# Set inline\n",
    "%matplotlib inline"
   ]
  },
  {
   "cell_type": "code",
   "execution_count": 2,
   "metadata": {
    "tags": [
     "hide-input"
    ]
   },
   "outputs": [],
   "source": [
    "def RCoeff(frequency, theta_i_degrees, cw, cp1, rho_ratio, rhow, alphap1):\n",
    "    \"\"\"\n",
    "    Function to compute reflection coefficient.\n",
    "    \"\"\"\n",
    "    # Convert attenuation to loss parameter\n",
    "    deltap1 = alphap1 * cp1 * np.log(10) / (40 * np.pi * frequency)\n",
    "\n",
    "    # Convert from degrees to radians\n",
    "    theta_i = np.deg2rad(theta_i_degrees)\n",
    "\n",
    "    # Complex sound speed\n",
    "    cpp = cp1 / (1 + 1j * deltap1)\n",
    "\n",
    "    # Ratio of sound speeds\n",
    "    ap = cpp / cw\n",
    "\n",
    "    # Impedance for water\n",
    "    zw = rhow * cw / (np.sin(theta_i))\n",
    "\n",
    "    # Impedance of sediment\n",
    "    zp = rho_ratio * rhow * cpp / np.sqrt(1 - (ap * np.cos(theta_i))**2)\n",
    "\n",
    "    # Impedance ratio\n",
    "    zwp = zp / zw\n",
    "\n",
    "    # Reflection coefficient\n",
    "    R1 = (zwp - 1) / (zwp + 1)\n",
    "\n",
    "    return R1"
   ]
  },
  {
   "cell_type": "code",
   "execution_count": 3,
   "metadata": {
    "tags": [
     "hide-input"
    ]
   },
   "outputs": [],
   "source": [
    "def perturb_roughness_scattering(frequency, theta_i_degrees, theta_s_degrees, phi_s, cw, cp1, rho_ratio, rhow, alphap1, w2, gamma2, L2):\n",
    "    \"\"\"\n",
    "    Function to compute the roughness scattering cross section using perturbation theory\"\n",
    "    \"\"\"\n",
    "    # Convert attenuation to loss parameter\n",
    "    deltap1 = alphap1 * cp1 * np.log(10) / (40 * np.pi * frequency)\n",
    "\n",
    "    # Convert from degrees to radians\n",
    "    theta_i = np.deg2rad(theta_i_degrees)\n",
    "    theta_s = np.deg2rad(theta_s_degrees)\n",
    "\n",
    "    # Ratio of sound speeds\n",
    "    ap = cp1 / (cw * (1 + 1j * deltap1))\n",
    "\n",
    "    # Wavenumber\n",
    "    kw = 2 * np.pi * frequency / cw\n",
    "\n",
    "    ## Reflection coefficients for theta_i and theta_s\n",
    "    Vww_i = RCoeff(frequency, theta_i_degrees, cw, cp1, rho_ratio, rhow, alphap1)\n",
    "    Vww_s = RCoeff(frequency, theta_s_degrees, cw, cp1, rho_ratio, rhow, alphap1)\n",
    "\n",
    "    # sin(theta_{pi}) and sin(theta_{ps})\n",
    "    stpi = np.sqrt(1 - (ap * np.cos(theta_i))**2)\n",
    "    stps = np.sqrt(1 - (ap * np.cos(theta_s))**2)\n",
    "\n",
    "    # Coefficients\n",
    "    B = stpi * stps /(np.square(ap) * rho_ratio)\n",
    "\n",
    "    G = (1 - 1 / rho_ratio) * (np.cos(theta_i) * np.cos(theta_s) * np.cos(phi_s) - B) - 1 + (1 / (np.square(ap) * rho_ratio))\n",
    "\n",
    "    Aww = (1 + Vww_i) * (1 + Vww_s) * G / 2\n",
    "\n",
    "    # incident wavenumber\n",
    "    ki_x = kw * np.cos(theta_i)\n",
    "    ki_y = 0;\n",
    "    \n",
    "    # scattered wavenumber\n",
    "    ks_x = kw * np.cos(theta_s) * np.cos(phi_s)\n",
    "    ks_y = kw * np.cos(theta_s) * np.sin(phi_s)\n",
    "\n",
    "    # Bragg wavenumber\n",
    "    dK = np.sqrt((ks_x - ki_x)**2 + (ks_y - ki_y)**2)\n",
    "\n",
    "    # Spectral Level\n",
    "    W_dK = w2 / ((dK**2 + (2 * np.pi / L2)**2)**(gamma2 / 2))\n",
    "\n",
    "    # Backscattering cross section\n",
    "    sigma = (kw**4) * (np.abs(Aww)**2) * W_dK\n",
    "    \n",
    "    return sigma"
   ]
  },
  {
   "cell_type": "code",
   "execution_count": 4,
   "metadata": {
    "tags": [
     "hide-input"
    ]
   },
   "outputs": [
    {
     "data": {
      "application/vnd.jupyter.widget-view+json": {
       "model_id": "b67b101745754632bfd3fef75c1bf65e",
       "version_major": 2,
       "version_minor": 0
      },
      "text/plain": [
       "interactive(children=(FloatSlider(value=1720.0, description='Sediment Speed (m/s)', layout=Layout(height='30px…"
      ]
     },
     "metadata": {},
     "output_type": "display_data"
    },
    {
     "data": {
      "text/plain": [
       "<function __main__.plot_scattering_strength(cp1, rhop1, alphap1)>"
      ]
     },
     "execution_count": 4,
     "metadata": {},
     "output_type": "execute_result"
    }
   ],
   "source": [
    "def plot_scattering_strength(cp1, rhop1, alphap1):\n",
    "    \"\"\"\n",
    "    # Function to plot magnitude and phase of the reflection coefficient and show critical / intromission angles.\n",
    "    \"\"\"\n",
    "\n",
    "    # Frequency\n",
    "    frequency = 40\n",
    "\n",
    "    # Water sound speed (m/s)\n",
    "    cw = 1500\n",
    "\n",
    "    # Water density (kg/m^3)\n",
    "    rhow = 1000\n",
    "\n",
    "    # Density ratio\n",
    "    rho_ratio = rhop1 * 1000 / rhow\n",
    "\n",
    "    # Grazing angles for reflection coefficient\n",
    "    theta = np.arange(0.25, 60, 0.25)\n",
    "\n",
    "    # Set phi_s = pi for backscatter\n",
    "    phi_s = np.pi\n",
    "\n",
    "    # Spectral Strength (m^(4-\\gamma2))\n",
    "    w2 = 0.0021\n",
    "\n",
    "    # Spectral exponent\n",
    "    gamma2 = 4.23\n",
    "\n",
    "    # Cutoff Length (m)\n",
    "    L2 = 1\n",
    "\n",
    "    # \n",
    "    sigma = perturb_roughness_scattering(frequency * 1000, theta, theta, phi_s, cw, cp1, rho_ratio, rhow, alphap1, w2, gamma2, L2)\n",
    "\n",
    "    # Close any existing plots\n",
    "    plt.close('all')\n",
    "\n",
    "    # Plotting\n",
    "    plt.figure(1)\n",
    "    plt.plot(theta, 10 * np.log10(sigma), linewidth=2)\n",
    "    plt.xlabel('Grazing Angle (degrees)')\n",
    "    plt.ylabel('Scattering Strength (dB)')\n",
    "    plt.grid(True)\n",
    "    \n",
    "    plt.show\n",
    "\n",
    "\n",
    "\n",
    "# Create interactive widgets\n",
    "layout = widgets.Layout(width=\"500px\", height=\"30px\")\n",
    "widgets.interact(\n",
    "    plot_scattering_strength,\n",
    "    cp1=widgets.FloatSlider(\n",
    "        min=1300,\n",
    "        max=1750,\n",
    "        step=1,\n",
    "        value=1720,\n",
    "        description=\"Sediment Speed (m/s)\", \n",
    "        style={\"description_width\": \"initial\"}, \n",
    "        layout=layout,\n",
    "    ),\n",
    "    rhop1=widgets.FloatSlider(\n",
    "        min=1.2,\n",
    "        max=2.5,\n",
    "        step=0.1,\n",
    "        value=2.1, \n",
    "        description=\"Sediment Density (g/cm^3)\", \n",
    "        style={\"description_width\": \"initial\"}, \n",
    "        layout=layout,\n",
    "    ),\n",
    "    alphap1=widgets.FloatSlider(\n",
    "        min=20,\n",
    "        max=650,\n",
    "        step=10,\n",
    "        value=20, \n",
    "        description=\"Attenuation (dB/m)\", \n",
    "        style={\"description_width\": \"initial\"}, \n",
    "        layout=layout,\n",
    "    ),\n",
    ")"
   ]
  },
  {
   "cell_type": "markdown",
   "metadata": {},
   "source": [
    "A couple of things are worth mentioning here:\n",
    "1. The scattering strength decreases with decreasing grazing angle.\n",
    "2. The reflection coefficient plays an important role. When there is a critical angle, $c_s > c_w$, where $c_w = 1500$ m/s in this case, there is a pronounced \"bump\" in the scattering strength at the critical angle. As the sound speed is decreased below the water sound speed, the scattering strength drops appreciably.\n",
    "3. While we don't see it in this calculation, as the frequency gets lower, the scattering strength decreases. Another way of thinking about this is that as the wavelength of the sound increases, the surface appears smooth to the incoming wave."
   ]
  }
 ],
 "metadata": {
  "celltoolbar": "Tags",
  "kernelspec": {
   "display_name": "Python 3 (ipykernel)",
   "language": "python",
   "name": "python3"
  },
  "language_info": {
   "codemirror_mode": {
    "name": "ipython",
    "version": 3
   },
   "file_extension": ".py",
   "mimetype": "text/x-python",
   "name": "python",
   "nbconvert_exporter": "python",
   "pygments_lexer": "ipython3",
   "version": "3.12.2"
  },
  "widgets": {
   "application/vnd.jupyter.widget-state+json": {
    "state": {
     "0eb808ffe9ac42a187d24a78e6bb0c75": {
      "model_module": "@jupyter-widgets/controls",
      "model_module_version": "2.0.0",
      "model_name": "SliderStyleModel",
      "state": {
       "description_width": "initial"
      }
     },
     "0f6f22e01d834ccd95b7211c99c2a34f": {
      "model_module": "@jupyter-widgets/base",
      "model_module_version": "2.0.0",
      "model_name": "LayoutModel",
      "state": {}
     },
     "12c3595805a544e492883928ff7c62ee": {
      "model_module": "@jupyter-widgets/controls",
      "model_module_version": "2.0.0",
      "model_name": "SliderStyleModel",
      "state": {
       "description_width": "initial"
      }
     },
     "37f46991cc894735a040035732111120": {
      "model_module": "@jupyter-widgets/controls",
      "model_module_version": "2.0.0",
      "model_name": "FloatSliderModel",
      "state": {
       "behavior": "drag-tap",
       "description": "Sediment Density (g/cm^3)",
       "layout": "IPY_MODEL_f205b3fb43dc434997cf7c5125a41f6b",
       "max": 2.5,
       "min": 1.2,
       "step": 0.1,
       "style": "IPY_MODEL_0eb808ffe9ac42a187d24a78e6bb0c75",
       "value": 2.1
      }
     },
     "3bbef08bc6c14ae8bf2087119edf9b54": {
      "model_module": "@jupyter-widgets/controls",
      "model_module_version": "2.0.0",
      "model_name": "FloatSliderModel",
      "state": {
       "behavior": "drag-tap",
       "description": "Sediment Speed (m/s)",
       "layout": "IPY_MODEL_f205b3fb43dc434997cf7c5125a41f6b",
       "max": 1750,
       "min": 1300,
       "style": "IPY_MODEL_fd896a1e694f40dea236743030074f58",
       "value": 1720
      }
     },
     "580af111737149d4acd7ef92960252e1": {
      "model_module": "@jupyter-widgets/base",
      "model_module_version": "2.0.0",
      "model_name": "LayoutModel",
      "state": {}
     },
     "6057402d946d4859934647f14a585226": {
      "model_module": "@jupyter-widgets/controls",
      "model_module_version": "2.0.0",
      "model_name": "FloatSliderModel",
      "state": {
       "behavior": "drag-tap",
       "description": "Attenuation (dB/m)",
       "layout": "IPY_MODEL_f205b3fb43dc434997cf7c5125a41f6b",
       "max": 650,
       "min": 20,
       "step": 10,
       "style": "IPY_MODEL_12c3595805a544e492883928ff7c62ee",
       "value": 20
      }
     },
     "b67b101745754632bfd3fef75c1bf65e": {
      "model_module": "@jupyter-widgets/controls",
      "model_module_version": "2.0.0",
      "model_name": "VBoxModel",
      "state": {
       "_dom_classes": [
        "widget-interact"
       ],
       "children": [
        "IPY_MODEL_3bbef08bc6c14ae8bf2087119edf9b54",
        "IPY_MODEL_37f46991cc894735a040035732111120",
        "IPY_MODEL_6057402d946d4859934647f14a585226",
        "IPY_MODEL_be7280b8cc7f494d956e3a6d39a314dc"
       ],
       "layout": "IPY_MODEL_0f6f22e01d834ccd95b7211c99c2a34f"
      }
     },
     "be7280b8cc7f494d956e3a6d39a314dc": {
      "model_module": "@jupyter-widgets/output",
      "model_module_version": "1.0.0",
      "model_name": "OutputModel",
      "state": {
       "layout": "IPY_MODEL_580af111737149d4acd7ef92960252e1"
      }
     },
     "f205b3fb43dc434997cf7c5125a41f6b": {
      "model_module": "@jupyter-widgets/base",
      "model_module_version": "2.0.0",
      "model_name": "LayoutModel",
      "state": {
       "height": "30px",
       "width": "500px"
      }
     },
     "fd896a1e694f40dea236743030074f58": {
      "model_module": "@jupyter-widgets/controls",
      "model_module_version": "2.0.0",
      "model_name": "SliderStyleModel",
      "state": {
       "description_width": "initial"
      }
     },
     "undefined": {
      "model_module": "@jupyter-widgets/controls",
      "model_module_version": "2.0.0",
      "model_name": "VBoxModel",
      "state": {
       "_view_name": "ErrorWidgetView",
       "error": {},
       "msg": "Model class 'VBoxModel' from module '@jupyter-widgets/controls' is loaded but can not be instantiated"
      }
     }
    },
    "version_major": 2,
    "version_minor": 0
   }
  }
 },
 "nbformat": 4,
 "nbformat_minor": 4
}
